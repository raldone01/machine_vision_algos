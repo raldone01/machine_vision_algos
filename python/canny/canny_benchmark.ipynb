{
 "cells": [
  {
   "cell_type": "markdown",
   "metadata": {},
   "source": [
    "# Canny Benchmark\n",
    "\n",
    "## TODO:\n",
    "\n",
    "* Traceability with benchmark checkpoints that are passed into canny-end-to-end"
   ]
  },
  {
   "cell_type": "markdown",
   "metadata": {},
   "source": [
    "## Imports and Setup"
   ]
  },
  {
   "cell_type": "code",
   "execution_count": 39,
   "metadata": {},
   "outputs": [
    {
     "name": "stdout",
     "output_type": "stream",
     "text": [
      "The autoreload extension is already loaded. To reload it, use:\n",
      "  %reload_ext autoreload\n"
     ]
    }
   ],
   "source": [
    "%load_ext autoreload\n",
    "%autoreload 2\n",
    "\n",
    "import sys\n",
    "import os\n",
    "\n",
    "sys.path.append(\"../\")\n",
    "\n",
    "import logging\n",
    "from pathlib import Path\n",
    "import unittest.mock as mock\n",
    "\n",
    "from icecream import ic\n",
    "\n",
    "from IPython.display import display\n",
    "import ipywidgets as wid\n",
    "from ipywidgets import Layout\n",
    "from utils.ipywidgets_extended import widgets_styling, ManyBoxes\n",
    "\n",
    "from utils.setup_notebook import init_notebook\n",
    "from utils.setup_logging import setup_logging\n",
    "import utils.memoize as memoize\n",
    "\n",
    "init_notebook()\n",
    "setup_logging(\"INFO\")\n",
    "memoize.set_file_store_path(\"canny_benchmark\")"
   ]
  },
  {
   "cell_type": "code",
   "execution_count": 37,
   "metadata": {},
   "outputs": [],
   "source": [
    "import numpy as np\n",
    "import pandas as pd\n",
    "import scipy as sp\n",
    "import numba\n",
    "from numba import cuda\n",
    "import cv2\n",
    "\n",
    "from utils.benchmarking import time_line, setup_process_for_benchmarking\n",
    "from utils.plotting_tools import (\n",
    "    SmartFigure,\n",
    "    to_ipy_image,\n",
    "    plot_kernel,\n",
    "    plot_matrix,\n",
    ")\n",
    "import utils.dyn_module as dyn\n",
    "\n",
    "from canny_common import load_input_images\n",
    "\n",
    "logging.getLogger(\"numba.cuda.cudadrv.driver\").setLevel(logging.WARNING)\n",
    "setup_process_for_benchmarking()"
   ]
  },
  {
   "cell_type": "code",
   "execution_count": 38,
   "metadata": {},
   "outputs": [
    {
     "data": {
      "application/vnd.jupyter.widget-view+json": {
       "model_id": "3708923e6825403a9bd7bf0bf3534580",
       "version_major": 2,
       "version_minor": 0
      },
      "text/plain": [
       "Button(description='Reset memoize store', style=ButtonStyle())"
      ]
     },
     "metadata": {},
     "output_type": "display_data"
    }
   ],
   "source": [
    "reset_memoize_store_button = wid.Button(description=\"Reset memoize store\")\n",
    "reset_memoize_store_button.on_click(lambda x: memoize.reset_store())\n",
    "display(reset_memoize_store_button)\n"
   ]
  },
  {
   "cell_type": "markdown",
   "metadata": {},
   "source": [
    "## Loading Canny Implementations"
   ]
  },
  {
   "cell_type": "code",
   "execution_count": 4,
   "metadata": {},
   "outputs": [
    {
     "name": "stdout",
     "output_type": "stream",
     "text": [
      "\u001b[90m2024-10-26 16:31:39.902 \u001b[32m\u001b[49mINFO root \u001b[0m\u001b[30mLoading 2 modules \u001b[0mstarted \u001b[90m(..\\utils\\dyn_module.py:49)\u001b[0m\n",
      "\u001b[90m2024-10-26 16:31:39.923 \u001b[32m\u001b[49mINFO root \u001b[0m\u001b[30mLoading rd_numba_cuda_fp32 \u001b[0mstarted \u001b[90m(..\\utils\\dyn_module.py:30)\u001b[0m\n",
      "\u001b[90m2024-10-26 16:31:43.197 \u001b[32m\u001b[49mINFO root \u001b[0m\u001b[30mLoading rd_numba_cuda_fp32 \u001b[0mtook: \u001b[31m3.2734 s\u001b[0m \u001b[90m(..\\utils\\dyn_module.py:30)\u001b[0m\n",
      "\u001b[90m2024-10-26 16:31:43.231 \u001b[32m\u001b[49mINFO root \u001b[0m\u001b[30mLoading rd_vec_v4_dibit \u001b[0mstarted \u001b[90m(..\\utils\\dyn_module.py:30)\u001b[0m\n",
      "\u001b[90m2024-10-26 16:31:43.838 \u001b[32m\u001b[49mINFO root \u001b[0m\u001b[30mLoading rd_vec_v4_dibit \u001b[0mtook: \u001b[34m606.9274 ms\u001b[0m \u001b[90m(..\\utils\\dyn_module.py:30)\u001b[0m\n",
      "\u001b[90m2024-10-26 16:31:43.839 \u001b[32m\u001b[49mINFO root \u001b[0m\u001b[30mLoading 2 modules \u001b[0mtook: \u001b[31m3.9361 s\u001b[0m \u001b[90m(..\\utils\\dyn_module.py:49)\u001b[0m\n"
     ]
    }
   ],
   "source": [
    "dir_canny_impls = \"./canny_impls\"\n",
    "canny_impls_module_names = dyn.load_modules(dir_canny_impls)"
   ]
  },
  {
   "cell_type": "markdown",
   "metadata": {},
   "source": [
    "## Loading Input Images"
   ]
  },
  {
   "cell_type": "code",
   "execution_count": 5,
   "metadata": {},
   "outputs": [
    {
     "name": "stdout",
     "output_type": "stream",
     "text": [
      "\u001b[90m2024-10-26 16:31:44.215 \u001b[32m\u001b[49mINFO root \u001b[0m\u001b[30mLoading 6 images \u001b[0mstarted \u001b[90m(canny_common.py:22)\u001b[0m\n",
      "\u001b[90m2024-10-26 16:31:44.239 \u001b[32m\u001b[49mINFO root \u001b[0m\u001b[30mLoading circle_128.png \u001b[0mstarted \u001b[90m(canny_common.py:24)\u001b[0m\n",
      "\u001b[90m2024-10-26 16:31:44.240 \u001b[32m\u001b[49mINFO root \u001b[0m\u001b[30mLoading circle_128.png \u001b[0mtook: \u001b[34m1.2197 ms\u001b[0m \u001b[90m(canny_common.py:24)\u001b[0m\n",
      "\u001b[90m2024-10-26 16:31:44.266 \u001b[32m\u001b[49mINFO root \u001b[0m\u001b[30mLoading circle_32.png \u001b[0mstarted \u001b[90m(canny_common.py:24)\u001b[0m\n",
      "\u001b[90m2024-10-26 16:31:44.267 \u001b[32m\u001b[49mINFO root \u001b[0m\u001b[30mLoading circle_32.png \u001b[0mtook: \u001b[32m920.9000 µs\u001b[0m \u001b[90m(canny_common.py:24)\u001b[0m\n",
      "\u001b[90m2024-10-26 16:31:44.307 \u001b[32m\u001b[49mINFO root \u001b[0m\u001b[30mLoading circle_512.png \u001b[0mstarted \u001b[90m(canny_common.py:24)\u001b[0m\n",
      "\u001b[90m2024-10-26 16:31:44.317 \u001b[32m\u001b[49mINFO root \u001b[0m\u001b[30mLoading circle_512.png \u001b[0mtook: \u001b[34m9.8631 ms\u001b[0m \u001b[90m(canny_common.py:24)\u001b[0m\n",
      "\u001b[90m2024-10-26 16:31:44.343 \u001b[32m\u001b[49mINFO root \u001b[0m\u001b[30mLoading circle_64.png \u001b[0mstarted \u001b[90m(canny_common.py:24)\u001b[0m\n",
      "\u001b[90m2024-10-26 16:31:44.344 \u001b[32m\u001b[49mINFO root \u001b[0m\u001b[30mLoading circle_64.png \u001b[0mtook: \u001b[32m554.3000 µs\u001b[0m \u001b[90m(canny_common.py:24)\u001b[0m\n",
      "\u001b[90m2024-10-26 16:31:44.368 \u001b[32m\u001b[49mINFO root \u001b[0m\u001b[30mLoading park.png \u001b[0mstarted \u001b[90m(canny_common.py:24)\u001b[0m\n",
      "\u001b[90m2024-10-26 16:31:44.748 \u001b[32m\u001b[49mINFO root \u001b[0m\u001b[30mLoading park.png \u001b[0mtook: \u001b[34m378.9416 ms\u001b[0m \u001b[90m(canny_common.py:24)\u001b[0m\n",
      "\u001b[90m2024-10-26 16:31:44.772 \u001b[32m\u001b[49mINFO root \u001b[0m\u001b[30mLoading quinn.png \u001b[0mstarted \u001b[90m(canny_common.py:24)\u001b[0m\n",
      "\u001b[90m2024-10-26 16:31:44.799 \u001b[32m\u001b[49mINFO root \u001b[0m\u001b[30mLoading quinn.png \u001b[0mtook: \u001b[34m25.7383 ms\u001b[0m \u001b[90m(canny_common.py:24)\u001b[0m\n",
      "\u001b[90m2024-10-26 16:31:44.800 \u001b[32m\u001b[49mINFO root \u001b[0m\u001b[30mLoading 6 images \u001b[0mtook: \u001b[34m583.7835 ms\u001b[0m \u001b[90m(canny_common.py:22)\u001b[0m\n"
     ]
    }
   ],
   "source": [
    "input_images_dir = \"./image_input\"\n",
    "input_images = load_input_images(input_images_dir)"
   ]
  },
  {
   "cell_type": "markdown",
   "metadata": {},
   "source": [
    "## Running Benchmarks"
   ]
  },
  {
   "cell_type": "code",
   "execution_count": 49,
   "metadata": {},
   "outputs": [
    {
     "data": {
      "application/vnd.jupyter.widget-view+json": {
       "model_id": "413692896d864074b9167df16109c979",
       "version_major": 2,
       "version_minor": 0
      },
      "text/plain": [
       "VBox(children=(HTML(value='<h2>Image Selection</h2>'), GridBox(children=(Button(description='Select all', styl…"
      ]
     },
     "metadata": {},
     "output_type": "display_data"
    }
   ],
   "source": [
    "fig_width = 16\n",
    "image_size = 512\n",
    "\n",
    "KEY_IMAGES_MANYBOXES = \"run_image_dropdown\"\n",
    "images_manyboxes = ManyBoxes(\n",
    "    [image.filename for image in input_images],\n",
    "    memoize.get(KEY_IMAGES_MANYBOXES, default=[]),\n",
    ")\n",
    "\n",
    "KEY_SELECTED_IMPLS_MANYBOXES = \"run_selected_impls\"\n",
    "selected_impls_manyboxes = ManyBoxes(\n",
    "    canny_impls_module_names, memoize.get(KEY_SELECTED_IMPLS_MANYBOXES, default=[])\n",
    ")\n",
    "\n",
    "KEY_WARMUP_RUNS_SLIDER = \"run_warmup_runs\"\n",
    "warmup_runs_slider = wid.IntSlider(\n",
    "    value=memoize.get(KEY_WARMUP_RUNS_SLIDER, default=100),\n",
    "    min=0,\n",
    "    max=100,\n",
    "    step=1,\n",
    "    continuous_update=False,\n",
    "    orientation=\"horizontal\",\n",
    "    readout=True,\n",
    ")\n",
    "KEY_RUNS_SLIDER = \"run_runs\"\n",
    "runs_slider = wid.IntSlider(\n",
    "    value=memoize.get(KEY_RUNS_SLIDER, default=1000),\n",
    "    min=1,\n",
    "    max=10000,\n",
    "    step=1,\n",
    "    continuous_update=False,\n",
    "    orientation=\"horizontal\",\n",
    "    readout=True,\n",
    ")\n",
    "\n",
    "run_benchmark_button = wid.Button(description=\"Run benchmarks\", **widgets_styling)\n",
    "output = wid.Output()\n",
    "\n",
    "\n",
    "def run_benchmarks(change=None):\n",
    "    pass\n",
    "\n",
    "\n",
    "run_benchmark_button.on_click(run_benchmarks)\n",
    "\n",
    "display(\n",
    "    wid.VBox(\n",
    "        [\n",
    "            wid.HTML(\"<h2>Image Selection</h2>\"),\n",
    "            images_manyboxes.get_view(),\n",
    "            wid.HTML(\"<h2>Implementation Selection</h2>\"),\n",
    "            selected_impls_manyboxes.get_view(),\n",
    "            wid.HBox(\n",
    "                [\n",
    "                    wid.VBox(\n",
    "                        [\n",
    "                            wid.HTML(\"Warmup Runs\"),\n",
    "                            wid.HTML(\"Runs\"),\n",
    "                        ]\n",
    "                    ),\n",
    "                    wid.VBox(\n",
    "                        [\n",
    "                            warmup_runs_slider,\n",
    "                            runs_slider,\n",
    "                        ]\n",
    "                    ),\n",
    "                ]\n",
    "            ),\n",
    "            run_benchmark_button,\n",
    "            output,\n",
    "        ]\n",
    "    )\n",
    ")"
   ]
  },
  {
   "cell_type": "markdown",
   "metadata": {},
   "source": [
    "## Plotting Benchmarks"
   ]
  },
  {
   "cell_type": "code",
   "execution_count": null,
   "metadata": {},
   "outputs": [],
   "source": []
  }
 ],
 "metadata": {
  "kernelspec": {
   "display_name": "Python 3",
   "language": "python",
   "name": "python3"
  },
  "language_info": {
   "codemirror_mode": {
    "name": "ipython",
    "version": 3
   },
   "file_extension": ".py",
   "mimetype": "text/x-python",
   "name": "python",
   "nbconvert_exporter": "python",
   "pygments_lexer": "ipython3",
   "version": "3.11.10"
  }
 },
 "nbformat": 4,
 "nbformat_minor": 2
}
