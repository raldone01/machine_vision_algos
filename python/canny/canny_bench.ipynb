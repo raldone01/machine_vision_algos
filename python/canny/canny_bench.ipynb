{
 "cells": [
  {
   "cell_type": "markdown",
   "metadata": {},
   "source": [
    "# Canny Benchmark"
   ]
  },
  {
   "cell_type": "markdown",
   "metadata": {},
   "source": [
    "## Imports & Setup"
   ]
  },
  {
   "cell_type": "code",
   "execution_count": 2,
   "metadata": {},
   "outputs": [],
   "source": [
    "%load_ext autoreload\n",
    "%autoreload 2\n",
    "\n",
    "import sys\n",
    "import os\n",
    "\n",
    "sys.path.append(\"../\")\n",
    "\n",
    "if False:\n",
    "    # Enable the CUDA simulator\n",
    "    os.environ[\"NUMBA_OPT\"] = \"0\"\n",
    "    os.environ[\"NUMBA_ENABLE_CUDASIM\"] = \"1\"\n",
    "    os.environ[\"NUMBA_CUDA_DEBUGINFO\"] = \"1\"\n",
    "\n",
    "import logging\n",
    "import time\n",
    "import pathlib\n",
    "from pathlib import Path\n",
    "import importlib.util\n",
    "from importlib import reload\n",
    "import math\n",
    "from io import BytesIO\n",
    "import unittest.mock as mock\n",
    "import gc\n",
    "\n",
    "import matplotlib as mpl\n",
    "import matplotlib.pyplot as plt\n",
    "\n",
    "from icecream import ic\n",
    "\n",
    "import numpy as np\n",
    "import pandas as pd\n",
    "import scipy as sp\n",
    "import numba\n",
    "from numba import cuda\n",
    "\n",
    "import cv2\n",
    "\n",
    "from IPython.display import clear_output, display, Image\n",
    "import ipywidgets as widgets\n",
    "from PIL import Image as PILImage\n",
    "\n",
    "from utils.benchmarking import time_function, time_line\n",
    "from utils.setup_notebook import init_notebook, source_code_path_is_from_notebook\n",
    "from utils.setup_logging import setup_logging\n",
    "from utils.plotting_tools import (\n",
    "    SmartFigure,\n",
    "    to_ipy_image,\n",
    "    plot_image,\n",
    "    plot_kernel,\n",
    "    plot_matrix,\n",
    ")\n",
    "\n",
    "init_notebook()\n",
    "setup_logging(\"INFO\")\n"
   ]
  },
  {
   "cell_type": "markdown",
   "metadata": {},
   "source": [
    "## Loading Canny Implementations"
   ]
  },
  {
   "cell_type": "code",
   "execution_count": 3,
   "metadata": {},
   "outputs": [
    {
     "name": "stdout",
     "output_type": "stream",
     "text": [
      "\u001b[90m2024-10-22 12:59:02.114 \u001b[32m\u001b[49mINFO root \u001b[0m\u001b[30mLoading 2 canny implementations \u001b[0mstarted \u001b[90m(C:\\Users\\_\\AppData\\Local\\Temp\\ipykernel_37700\\3814923242.py:35)\u001b[0m\n",
      "\u001b[90m2024-10-22 12:59:02.137 \u001b[32m\u001b[49mINFO root \u001b[0m\u001b[30mLoading rd_numba_cuda_fp32 \u001b[0mstarted \u001b[90m(C:\\Users\\_\\AppData\\Local\\Temp\\ipykernel_37700\\3814923242.py:21)\u001b[0m\n",
      "\u001b[90m2024-10-22 12:59:02.142 \u001b[32m\u001b[49mINFO numba.cuda.cudadrv.driver \u001b[0minit\n",
      "\u001b[90m2024-10-22 12:59:03.983 \u001b[32m\u001b[49mINFO root \u001b[0m\u001b[30mLoading rd_numba_cuda_fp32 \u001b[0mtook: \u001b[31m1.8455 s\u001b[0m \u001b[90m(C:\\Users\\_\\AppData\\Local\\Temp\\ipykernel_37700\\3814923242.py:21)\u001b[0m\n",
      "\u001b[90m2024-10-22 12:59:04.030 \u001b[32m\u001b[49mINFO root \u001b[0m\u001b[30mLoading rd_vec_v4_dibit \u001b[0mstarted \u001b[90m(C:\\Users\\_\\AppData\\Local\\Temp\\ipykernel_37700\\3814923242.py:21)\u001b[0m\n",
      "\u001b[90m2024-10-22 12:59:04.823 \u001b[32m\u001b[49mINFO root \u001b[0m\u001b[30mLoading rd_vec_v4_dibit \u001b[0mtook: \u001b[34m791.9811 ms\u001b[0m \u001b[90m(C:\\Users\\_\\AppData\\Local\\Temp\\ipykernel_37700\\3814923242.py:21)\u001b[0m\n",
      "\u001b[90m2024-10-22 12:59:04.823 \u001b[32m\u001b[49mINFO root \u001b[0m\u001b[30mLoading 2 canny implementations \u001b[0mtook: \u001b[31m2.7085 s\u001b[0m \u001b[90m(C:\\Users\\_\\AppData\\Local\\Temp\\ipykernel_37700\\3814923242.py:35)\u001b[0m\n"
     ]
    }
   ],
   "source": [
    "# Load canny implementations\n",
    "dir_canny_impls = \"./canny_impls\"\n",
    "files_canny_impls = [f for f in os.listdir(dir_canny_impls) if str(f).endswith(\".py\")]\n",
    "files_canny_impls.sort()\n",
    "\n",
    "if \"canny_impls\" not in locals():\n",
    "    canny_impls = []\n",
    "\n",
    "\n",
    "def load_module(file_path: str, dyn_modules: list):\n",
    "    module_name = Path(file_path).stem\n",
    "    module_string = f\"{module_name}\"\n",
    "\n",
    "    already_loaded = module_string in sys.modules\n",
    "    if already_loaded:\n",
    "        with time_line(f\"Reloading {module_name}\"):\n",
    "            module = sys.modules[module_string]\n",
    "            reload(module)\n",
    "        return module\n",
    "\n",
    "    with time_line(f\"Loading {module_name}\"):\n",
    "        folder = str(Path(file_path).parent)\n",
    "        if folder not in sys.path:\n",
    "            sys.path.append(folder)\n",
    "        spec = importlib.util.spec_from_file_location(module_string, file_path)\n",
    "        module = importlib.util.module_from_spec(spec)\n",
    "        sys.modules[module_string] = module\n",
    "        spec.loader.exec_module(module)\n",
    "\n",
    "    dyn_modules.append(module)\n",
    "\n",
    "    return module\n",
    "\n",
    "\n",
    "with time_line(f\"Loading {len(files_canny_impls)} canny implementations\"):\n",
    "    for f in files_canny_impls:\n",
    "        full_path = Path(dir_canny_impls) / f\n",
    "        module = load_module(full_path, canny_impls)\n"
   ]
  },
  {
   "cell_type": "markdown",
   "metadata": {},
   "source": [
    "## Loading Input Images"
   ]
  },
  {
   "cell_type": "code",
   "execution_count": 4,
   "metadata": {},
   "outputs": [
    {
     "name": "stdout",
     "output_type": "stream",
     "text": [
      "\u001b[90m2024-10-22 12:59:05.334 \u001b[32m\u001b[49mINFO root \u001b[0m\u001b[30mLoading 5 images \u001b[0mstarted \u001b[90m(C:\\Users\\_\\AppData\\Local\\Temp\\ipykernel_37700\\2264552153.py:10)\u001b[0m\n",
      "\u001b[90m2024-10-22 12:59:05.365 \u001b[32m\u001b[49mINFO root \u001b[0m\u001b[30mLoading circle_128.png \u001b[0mstarted \u001b[90m(C:\\Users\\_\\AppData\\Local\\Temp\\ipykernel_37700\\2264552153.py:12)\u001b[0m\n",
      "\u001b[90m2024-10-22 12:59:05.367 \u001b[32m\u001b[49mINFO root \u001b[0m\u001b[30mLoading circle_128.png \u001b[0mtook: \u001b[32m742.2000 µs\u001b[0m \u001b[90m(C:\\Users\\_\\AppData\\Local\\Temp\\ipykernel_37700\\2264552153.py:12)\u001b[0m\n",
      "\u001b[90m2024-10-22 12:59:05.393 \u001b[32m\u001b[49mINFO root \u001b[0m\u001b[30mLoading circle_32.png \u001b[0mstarted \u001b[90m(C:\\Users\\_\\AppData\\Local\\Temp\\ipykernel_37700\\2264552153.py:12)\u001b[0m\n",
      "\u001b[90m2024-10-22 12:59:05.394 \u001b[32m\u001b[49mINFO root \u001b[0m\u001b[30mLoading circle_32.png \u001b[0mtook: \u001b[32m402.2000 µs\u001b[0m \u001b[90m(C:\\Users\\_\\AppData\\Local\\Temp\\ipykernel_37700\\2264552153.py:12)\u001b[0m\n",
      "\u001b[90m2024-10-22 12:59:05.419 \u001b[32m\u001b[49mINFO root \u001b[0m\u001b[30mLoading circle_64.png \u001b[0mstarted \u001b[90m(C:\\Users\\_\\AppData\\Local\\Temp\\ipykernel_37700\\2264552153.py:12)\u001b[0m\n",
      "\u001b[90m2024-10-22 12:59:05.420 \u001b[32m\u001b[49mINFO root \u001b[0m\u001b[30mLoading circle_64.png \u001b[0mtook: \u001b[32m379.6000 µs\u001b[0m \u001b[90m(C:\\Users\\_\\AppData\\Local\\Temp\\ipykernel_37700\\2264552153.py:12)\u001b[0m\n",
      "\u001b[90m2024-10-22 12:59:05.446 \u001b[32m\u001b[49mINFO root \u001b[0m\u001b[30mLoading park.png \u001b[0mstarted \u001b[90m(C:\\Users\\_\\AppData\\Local\\Temp\\ipykernel_37700\\2264552153.py:12)\u001b[0m\n",
      "\u001b[90m2024-10-22 12:59:05.879 \u001b[32m\u001b[49mINFO root \u001b[0m\u001b[30mLoading park.png \u001b[0mtook: \u001b[34m432.5596 ms\u001b[0m \u001b[90m(C:\\Users\\_\\AppData\\Local\\Temp\\ipykernel_37700\\2264552153.py:12)\u001b[0m\n",
      "\u001b[90m2024-10-22 12:59:05.903 \u001b[32m\u001b[49mINFO root \u001b[0m\u001b[30mLoading quinn.png \u001b[0mstarted \u001b[90m(C:\\Users\\_\\AppData\\Local\\Temp\\ipykernel_37700\\2264552153.py:12)\u001b[0m\n",
      "\u001b[90m2024-10-22 12:59:05.929 \u001b[32m\u001b[49mINFO root \u001b[0m\u001b[30mLoading quinn.png \u001b[0mtook: \u001b[34m25.0974 ms\u001b[0m \u001b[90m(C:\\Users\\_\\AppData\\Local\\Temp\\ipykernel_37700\\2264552153.py:12)\u001b[0m\n",
      "\u001b[90m2024-10-22 12:59:05.930 \u001b[32m\u001b[49mINFO root \u001b[0m\u001b[30mLoading 5 images \u001b[0mtook: \u001b[34m595.4172 ms\u001b[0m \u001b[90m(C:\\Users\\_\\AppData\\Local\\Temp\\ipykernel_37700\\2264552153.py:10)\u001b[0m\n"
     ]
    }
   ],
   "source": [
    "image_input_dir = \"./image_input\"\n",
    "input_files = [\n",
    "    f for f in os.listdir(image_input_dir) if f.endswith(\".jpg\") or f.endswith(\".png\")\n",
    "]\n",
    "input_files.sort()\n",
    "\n",
    "images_color = []\n",
    "images_gray = []\n",
    "\n",
    "with time_line(f\"Loading {len(input_files)} images\"):\n",
    "    for f in input_files:\n",
    "        with time_line(f\"Loading {f}\"):\n",
    "            file_image = Path(image_input_dir) / f\n",
    "            image_color = cv2.imread(str(file_image), cv2.IMREAD_COLOR)\n",
    "            images_color.append(image_color)\n",
    "            # image_gray = (\n",
    "            #    cv2.cvtColor(image_color, cv2.COLOR_BGR2GRAY).astype(np.float32) / 255.0\n",
    "            # )\n",
    "            image_gray = cv2.cvtColor(image_color, cv2.COLOR_BGR2GRAY)\n",
    "            images_gray.append(image_gray)\n",
    "\n",
    "# sort all three lists by image size\n",
    "images_color, images_gray, input_files = zip(\n",
    "    *sorted(zip(images_color, images_gray, input_files), key=lambda x: x[0].size)\n",
    ")"
   ]
  },
  {
   "cell_type": "markdown",
   "metadata": {},
   "source": [
    "## Running Canny"
   ]
  },
  {
   "cell_type": "code",
   "execution_count": 27,
   "metadata": {},
   "outputs": [
    {
     "data": {
      "application/vnd.jupyter.widget-view+json": {
       "model_id": "1b1af2c198a84a31838ee19eba91f903",
       "version_major": 2,
       "version_minor": 0
      },
      "text/plain": [
       "VBox(children=(HBox(children=(Dropdown(description='Image', options=('circle_32.png', 'circle_64.png', 'circle…"
      ]
     },
     "metadata": {},
     "output_type": "display_data"
    }
   ],
   "source": [
    "# Show a dropdown to select the image\n",
    "\n",
    "output = widgets.Output()\n",
    "\n",
    "image_dropdown = widgets.Dropdown(\n",
    "    options=input_files,\n",
    "    description=\"Image\",\n",
    "    disabled=False,\n",
    ")\n",
    "canny_impl_dropdown = widgets.Dropdown(\n",
    "    options=[canny_impl.__name__ for canny_impl in canny_impls],\n",
    "    description=\"Canny Implementation\",\n",
    "    disabled=False,\n",
    "    value=canny_impls[0].__name__,\n",
    ")\n",
    "sigma_slider = widgets.FloatSlider(\n",
    "    value=3.0,\n",
    "    min=0.1,\n",
    "    max=10.0,\n",
    "    step=0.1,\n",
    "    description=\"Sigma\",\n",
    "    disabled=False,\n",
    "    continuous_update=False,\n",
    "    orientation=\"horizontal\",\n",
    "    readout=True,\n",
    "    readout_format=\".1f\",\n",
    ")\n",
    "\n",
    "smart_figure = SmartFigure(figsize=(14, 7))\n",
    "\n",
    "\n",
    "@output.capture(clear_output=True, wait=True)\n",
    "def on_menu_change(change=None):\n",
    "    # Show the selected image\n",
    "    image_color = images_color[image_dropdown.index]\n",
    "    image_gray = images_gray[image_dropdown.index]\n",
    "\n",
    "    height, width = image_gray.shape\n",
    "\n",
    "    logging.info(f\"Selected image: {image_dropdown.value} ({width}x{height})\")\n",
    "    logging.info(f\"Selected canny implementation: {canny_impl_dropdown.value}\")\n",
    "    with time_line(\"Displaying input images\"):\n",
    "        display(\n",
    "            widgets.HBox(\n",
    "                [\n",
    "                    to_ipy_image(image_color, longest_side=300),\n",
    "                    to_ipy_image(image_gray, longest_side=300),\n",
    "                ]\n",
    "            )\n",
    "        )\n",
    "\n",
    "    canny_impl = next(\n",
    "        canny_impl\n",
    "        for canny_impl in canny_impls\n",
    "        if canny_impl.__name__ == canny_impl_dropdown.value\n",
    "    )\n",
    "\n",
    "    with time_line(\"Blurring image\"):\n",
    "        image_blurred = canny_impl.blur_gauss(image_gray, sigma_slider.value)\n",
    "    with time_line(\"Displaying blurred image\"):\n",
    "        display(to_ipy_image(image_blurred, longest_side=300))\n",
    "\n",
    "    global smart_figure\n",
    "    smart_figure = SmartFigure(\n",
    "        figsize=(14, 7),  # rc_params={\"figure.constrained_layout.use\": True}\n",
    "    )\n",
    "    fig = smart_figure.get_fig()\n",
    "    ax = fig.subplots(1, 2)\n",
    "    for ax_ in ax:\n",
    "        ax_.clear()\n",
    "    plot_matrix(ax[0], image_gray, title=\"Original Image\")\n",
    "    plot_matrix(ax[1], image_blurred, title=\"Blurred Image\")\n",
    "    fig.tight_layout()\n",
    "    fig.canvas.layout.min_width = \"400px\"\n",
    "    fig.canvas.layout.flex = \"1 1 auto\"\n",
    "    fig.canvas.layout.width = \"auto\"\n",
    "    # fig.canvas.resizable = False\n",
    "    display(fig.canvas)\n",
    "\n",
    "\n",
    "image_dropdown.observe(on_menu_change, names=\"value\")\n",
    "canny_impl_dropdown.observe(on_menu_change, names=\"value\")\n",
    "sigma_slider.observe(on_menu_change, names=\"value\")\n",
    "\n",
    "display(\n",
    "    widgets.VBox(\n",
    "        [widgets.HBox([image_dropdown, canny_impl_dropdown, sigma_slider]), output]\n",
    "    )\n",
    ")\n",
    "on_menu_change()"
   ]
  },
  {
   "cell_type": "code",
   "execution_count": 6,
   "metadata": {},
   "outputs": [],
   "source": [
    "if False:\n",
    "    cuda.select_device(0)\n",
    "    cuda.synchronize()\n",
    "    device = cuda.get_current_device()\n",
    "    device.reset()\n",
    "    gc.collect()"
   ]
  }
 ],
 "metadata": {
  "kernelspec": {
   "display_name": "Python 3",
   "language": "python",
   "name": "python3"
  },
  "language_info": {
   "codemirror_mode": {
    "name": "ipython",
    "version": 3
   },
   "file_extension": ".py",
   "mimetype": "text/x-python",
   "name": "python",
   "nbconvert_exporter": "python",
   "pygments_lexer": "ipython3",
   "version": "3.11.10"
  }
 },
 "nbformat": 4,
 "nbformat_minor": 2
}
