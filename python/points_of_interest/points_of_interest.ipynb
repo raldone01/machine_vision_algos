{
 "cells": [
  {
   "cell_type": "markdown",
   "metadata": {},
   "source": [
    "# Points of Interest"
   ]
  },
  {
   "cell_type": "markdown",
   "metadata": {},
   "source": [
    "## Imports and Setup"
   ]
  },
  {
   "cell_type": "code",
   "execution_count": 44,
   "metadata": {},
   "outputs": [
    {
     "name": "stdout",
     "output_type": "stream",
     "text": [
      "The autoreload extension is already loaded. To reload it, use:\n",
      "  %reload_ext autoreload\n"
     ]
    }
   ],
   "source": [
    "%load_ext autoreload\n",
    "%autoreload 2\n",
    "\n",
    "import sys\n",
    "import os\n",
    "\n",
    "sys.path.append(\"../\")\n",
    "\n",
    "import logging\n",
    "from pathlib import Path\n",
    "\n",
    "from icecream import ic\n",
    "\n",
    "from IPython.display import display\n",
    "import ipywidgets as wid\n",
    "from utils.ipywidgets_extended import widgets_styling\n",
    "\n",
    "from utils.setup_notebook import init_notebook\n",
    "from utils.setup_logging import setup_logging\n",
    "import utils.memoize as memoize\n",
    "\n",
    "init_notebook()\n",
    "setup_logging(\"INFO\")\n",
    "memoize.set_file_store_path(\"harris_points_of_interest\")"
   ]
  },
  {
   "cell_type": "code",
   "execution_count": 45,
   "metadata": {},
   "outputs": [],
   "source": [
    "import numpy as np\n",
    "import pandas as pd\n",
    "import scipy as sp\n",
    "import numba as nb\n",
    "from numba import cuda\n",
    "import cv2\n",
    "\n",
    "from utils.benchmarking import LogTimer\n",
    "from utils.plotting_tools import (\n",
    "    SmartFigure,\n",
    "    to_ipy_image,\n",
    "    plot_kernel,\n",
    "    plot_matrix,\n",
    ")\n",
    "from utils.image_tools import load_image, LoadedImage\n",
    "import utils.dyn_module as dyn\n",
    "\n",
    "logging.getLogger(\"numba.cuda.cudadrv.driver\").setLevel(logging.WARNING)"
   ]
  },
  {
   "cell_type": "code",
   "execution_count": 46,
   "metadata": {},
   "outputs": [
    {
     "data": {
      "application/vnd.jupyter.widget-view+json": {
       "model_id": "f6955ee0a5a14123a8511857f7618f2a",
       "version_major": 2,
       "version_minor": 0
      },
      "text/plain": [
       "Button(description='Reset memoize store', style=ButtonStyle())"
      ]
     },
     "metadata": {},
     "output_type": "display_data"
    }
   ],
   "source": [
    "reset_memoize_store_button = wid.Button(description=\"Reset memoize store\")\n",
    "reset_memoize_store_button.on_click(lambda x: memoize.reset_store())\n",
    "display(reset_memoize_store_button)\n"
   ]
  },
  {
   "cell_type": "markdown",
   "metadata": {},
   "source": [
    "## Loading Points of Interest Implementations"
   ]
  },
  {
   "cell_type": "code",
   "execution_count": 47,
   "metadata": {},
   "outputs": [
    {
     "name": "stdout",
     "output_type": "stream",
     "text": [
      "\u001b[90m2024-11-05 16:01:58.607 \u001b[32m\u001b[49mINFO root \u001b[0m\u001b[30mLoading 0 modules \u001b[0mstarted \u001b[90m(..\\utils\\dyn_module.py:59)\u001b[0m\n",
      "\u001b[90m2024-11-05 16:01:58.623 \u001b[32m\u001b[49mINFO root \u001b[0m\u001b[30mLoading 0 modules \u001b[0mtook: \u001b[34m19.3320 ms\u001b[0m \u001b[90m(..\\utils\\dyn_module.py:59)\u001b[0m\n"
     ]
    }
   ],
   "source": [
    "dir_harris_impls = \"./points_of_interest_impls\"\n",
    "harris_impls_module_names = dyn.load_modules(dir_harris_impls)\n"
   ]
  },
  {
   "cell_type": "markdown",
   "metadata": {},
   "source": [
    "## Loading Input Image Sets"
   ]
  },
  {
   "cell_type": "code",
   "execution_count": 55,
   "metadata": {},
   "outputs": [
    {
     "name": "stdout",
     "output_type": "stream",
     "text": [
      "\u001b[90m2024-11-05 16:06:09.591 \u001b[32m\u001b[49mINFO root \u001b[0m\u001b[30mLoading image sets from image_sets_input \u001b[0mstarted \u001b[90m(notebook_cell:11)\u001b[0m\n",
      "\u001b[90m2024-11-05 16:06:09.606 \u001b[32m\u001b[49mINFO root \u001b[0m\u001b[30mLoading image set the_office \u001b[0mstarted \u001b[90m(notebook_cell:13)\u001b[0m\n",
      "\u001b[90m2024-11-05 16:06:09.633 \u001b[32m\u001b[49mINFO root \u001b[0m\u001b[30mLoading 20241105_124827.jpg \u001b[0mstarted \u001b[90m(..\\utils\\image_tools.py:69)\u001b[0m\n",
      "\u001b[90m2024-11-05 16:06:10.081 \u001b[32m\u001b[49mINFO root \u001b[0m\u001b[30mLoading 20241105_124827.jpg \u001b[0mtook: \u001b[34m458.2781 ms\u001b[0m \u001b[90m(..\\utils\\image_tools.py:69)\u001b[0m\n",
      "\u001b[90m2024-11-05 16:06:10.099 \u001b[32m\u001b[49mINFO root \u001b[0m\u001b[30mLoading 20241105_124828.jpg \u001b[0mstarted \u001b[90m(..\\utils\\image_tools.py:69)\u001b[0m\n",
      "\u001b[90m2024-11-05 16:06:10.672 \u001b[32m\u001b[49mINFO root \u001b[0m\u001b[30mLoading 20241105_124828.jpg \u001b[0mtook: \u001b[34m558.4061 ms\u001b[0m \u001b[90m(..\\utils\\image_tools.py:69)\u001b[0m\n",
      "\u001b[90m2024-11-05 16:06:10.715 \u001b[32m\u001b[49mINFO root \u001b[0m\u001b[30mLoading 20241105_124831.jpg \u001b[0mstarted \u001b[90m(..\\utils\\image_tools.py:69)\u001b[0m\n",
      "\u001b[90m2024-11-05 16:06:11.504 \u001b[32m\u001b[49mINFO root \u001b[0m\u001b[30mLoading 20241105_124831.jpg \u001b[0mtook: \u001b[34m806.5266 ms\u001b[0m \u001b[90m(..\\utils\\image_tools.py:69)\u001b[0m\n",
      "\u001b[90m2024-11-05 16:06:11.524 \u001b[32m\u001b[49mINFO root \u001b[0m\u001b[30mLoading 20241105_124833.jpg \u001b[0mstarted \u001b[90m(..\\utils\\image_tools.py:69)\u001b[0m\n",
      "\u001b[90m2024-11-05 16:06:12.519 \u001b[32m\u001b[49mINFO root \u001b[0m\u001b[30mLoading 20241105_124833.jpg \u001b[0mtook: \u001b[34m980.9793 ms\u001b[0m \u001b[90m(..\\utils\\image_tools.py:69)\u001b[0m\n",
      "\u001b[90m2024-11-05 16:06:12.552 \u001b[32m\u001b[49mINFO root \u001b[0m\u001b[30mLoading 20241105_124835.jpg \u001b[0mstarted \u001b[90m(..\\utils\\image_tools.py:69)\u001b[0m\n",
      "\u001b[90m2024-11-05 16:06:13.293 \u001b[32m\u001b[49mINFO root \u001b[0m\u001b[30mLoading 20241105_124835.jpg \u001b[0mtook: \u001b[34m733.1215 ms\u001b[0m \u001b[90m(..\\utils\\image_tools.py:69)\u001b[0m\n",
      "\u001b[90m2024-11-05 16:06:13.336 \u001b[32m\u001b[49mINFO root \u001b[0m\u001b[30mLoading image set the_office \u001b[0mtook: \u001b[31m3.7035 s\u001b[0m \u001b[90m(notebook_cell:13)\u001b[0m\n",
      "\u001b[90m2024-11-05 16:06:13.384 \u001b[32m\u001b[49mINFO root \u001b[0m\u001b[30mLoading image sets from image_sets_input \u001b[0mtook: \u001b[31m3.7690 s\u001b[0m \u001b[90m(notebook_cell:11)\u001b[0m\n",
      "\u001b[90m2024-11-05 16:06:13.432 \u001b[32m\u001b[49mINFO root \u001b[0m\u001b[30mLoading image sets from image_sets_scaled_input \u001b[0mstarted \u001b[90m(notebook_cell:11)\u001b[0m\n",
      "\u001b[90m2024-11-05 16:06:13.480 \u001b[32m\u001b[49mINFO root \u001b[0m\u001b[30mLoading image set the_office_scaled_(604, 453) \u001b[0mstarted \u001b[90m(notebook_cell:13)\u001b[0m\n",
      "\u001b[90m2024-11-05 16:06:13.520 \u001b[32m\u001b[49mINFO root \u001b[0m\u001b[30mLoading image set the_office_scaled_(604, 453) \u001b[0mtook: \u001b[34m49.8437 ms\u001b[0m \u001b[90m(notebook_cell:13)\u001b[0m\n",
      "\u001b[90m2024-11-05 16:06:13.544 \u001b[32m\u001b[49mINFO root \u001b[0m\u001b[30mLoading image sets from image_sets_scaled_input \u001b[0mtook: \u001b[34m134.4088 ms\u001b[0m \u001b[90m(notebook_cell:11)\u001b[0m\n"
     ]
    }
   ],
   "source": [
    "input_image_set_dir = \"./image_sets_input\"\n",
    "input_image_set_scaled_dir = \"./image_sets_scaled_input\"\n",
    "\n",
    "input_image_sets = {}\n",
    "\n",
    "\n",
    "def load_image_sets(image_sets_dir: str):\n",
    "    image_sets_folders = os.listdir(image_sets_dir)\n",
    "    image_sets_folders.sort()\n",
    "\n",
    "    with LogTimer(f\"Loading image sets from {Path(image_sets_dir).name}\"):\n",
    "        for image_set_name in image_sets_folders:\n",
    "            with LogTimer(f\"Loading image set {image_set_name}\"):\n",
    "                image_set_dir = os.path.join(image_sets_dir, image_set_name)\n",
    "                image_set = []\n",
    "\n",
    "                images_in_image_set = os.listdir(image_set_dir)\n",
    "                images_in_image_set.sort()\n",
    "\n",
    "                for image_name in images_in_image_set:\n",
    "                    image = load_image(os.path.join(image_set_dir, image_name))\n",
    "                    image_set.append(image)\n",
    "\n",
    "                input_image_sets[image_set_name] = image_set\n",
    "\n",
    "\n",
    "def save_image_set(image_set: list, image_set_dir: str):\n",
    "    os.makedirs(image_set_dir, exist_ok=True)\n",
    "    for image in image_set:\n",
    "        cv2.imwrite(os.path.join(image_set_dir, image.filename), image.image_color)\n",
    "\n",
    "\n",
    "load_image_sets(input_image_set_dir)\n",
    "load_image_sets(input_image_set_scaled_dir)"
   ]
  },
  {
   "cell_type": "markdown",
   "metadata": {},
   "source": [
    "## Image set scaler"
   ]
  },
  {
   "cell_type": "code",
   "execution_count": 49,
   "metadata": {},
   "outputs": [],
   "source": [
    "def get_largest_image_in_image_set(image_set: list) -> np.array:\n",
    "    largest_image = None\n",
    "    largest_pixel_count = 0\n",
    "    for image in image_set:\n",
    "        resolution = image.image_color.shape[:2]\n",
    "        pixel_count = resolution[0] * resolution[1]\n",
    "        if pixel_count > largest_pixel_count:\n",
    "            largest_pixel_count = pixel_count\n",
    "            largest_image = image\n",
    "    return largest_image\n",
    "\n",
    "\n",
    "def get_largest_resolution_in_image_set(image_set: list) -> tuple:\n",
    "    largest_image = get_largest_image_in_image_set(image_set)\n",
    "    return largest_image.image_color.shape[:2]"
   ]
  },
  {
   "cell_type": "code",
   "execution_count": null,
   "metadata": {},
   "outputs": [
    {
     "data": {
      "application/vnd.jupyter.widget-view+json": {
       "model_id": "f11cb2569f37473a98b776a0949f5679",
       "version_major": 2,
       "version_minor": 0
      },
      "text/plain": [
       "VBox(children=(HBox(children=(Dropdown(description='Image set', layout=Layout(width='auto'), options=('the_off…"
      ]
     },
     "metadata": {},
     "output_type": "display_data"
    },
    {
     "name": "stdout",
     "output_type": "stream",
     "text": [
      "\u001b[90m2024-11-05 16:09:35.454 \u001b[32m\u001b[49mINFO root \u001b[0m\u001b[30mCreating scaled image set for the_office \u001b[0mstarted \u001b[90m(notebook_cell:49)\u001b[0m\n",
      "\u001b[90m2024-11-05 16:09:35.473 \u001b[32m\u001b[49mINFO root \u001b[0m\u001b[30mResizing image 20241105_124827.jpg from (8160, 6120) to (604, 453) \u001b[0mstarted \u001b[90m(notebook_cell:74)\u001b[0m\n",
      "\u001b[90m2024-11-05 16:09:35.505 \u001b[32m\u001b[49mINFO root \u001b[0m\u001b[30mResizing image 20241105_124827.jpg from (8160, 6120) to (604, 453) \u001b[0mtook: \u001b[34m20.0889 ms\u001b[0m \u001b[90m(notebook_cell:74)\u001b[0m\n",
      "\u001b[90m2024-11-05 16:09:35.532 \u001b[32m\u001b[49mINFO root \u001b[0m\u001b[30mResizing image 20241105_124828.jpg from (8160, 6120) to (604, 453) \u001b[0mstarted \u001b[90m(notebook_cell:74)\u001b[0m\n",
      "\u001b[90m2024-11-05 16:09:35.567 \u001b[32m\u001b[49mINFO root \u001b[0m\u001b[30mResizing image 20241105_124828.jpg from (8160, 6120) to (604, 453) \u001b[0mtook: \u001b[34m28.8506 ms\u001b[0m \u001b[90m(notebook_cell:74)\u001b[0m\n",
      "\u001b[90m2024-11-05 16:09:35.582 \u001b[32m\u001b[49mINFO root \u001b[0m\u001b[30mResizing image 20241105_124831.jpg from (8160, 6120) to (604, 453) \u001b[0mstarted \u001b[90m(notebook_cell:74)\u001b[0m\n",
      "\u001b[90m2024-11-05 16:09:35.615 \u001b[32m\u001b[49mINFO root \u001b[0m\u001b[30mResizing image 20241105_124831.jpg from (8160, 6120) to (604, 453) \u001b[0mtook: \u001b[34m17.2515 ms\u001b[0m \u001b[90m(notebook_cell:74)\u001b[0m\n",
      "\u001b[90m2024-11-05 16:09:35.639 \u001b[32m\u001b[49mINFO root \u001b[0m\u001b[30mResizing image 20241105_124833.jpg from (8160, 6120) to (604, 453) \u001b[0mstarted \u001b[90m(notebook_cell:74)\u001b[0m\n",
      "\u001b[90m2024-11-05 16:09:35.663 \u001b[32m\u001b[49mINFO root \u001b[0m\u001b[30mResizing image 20241105_124833.jpg from (8160, 6120) to (604, 453) \u001b[0mtook: \u001b[34m24.6066 ms\u001b[0m \u001b[90m(notebook_cell:74)\u001b[0m\n",
      "\u001b[90m2024-11-05 16:09:35.686 \u001b[32m\u001b[49mINFO root \u001b[0m\u001b[30mResizing image 20241105_124835.jpg from (8160, 6120) to (604, 453) \u001b[0mstarted \u001b[90m(notebook_cell:74)\u001b[0m\n",
      "\u001b[90m2024-11-05 16:09:35.726 \u001b[32m\u001b[49mINFO root \u001b[0m\u001b[30mResizing image 20241105_124835.jpg from (8160, 6120) to (604, 453) \u001b[0mtook: \u001b[34m24.1109 ms\u001b[0m \u001b[90m(notebook_cell:74)\u001b[0m\n",
      "\u001b[90m2024-11-05 16:09:35.821 \u001b[32m\u001b[49mINFO root \u001b[0m\u001b[30mLoading image sets from image_sets_scaled_input \u001b[0mstarted \u001b[90m(notebook_cell:11)\u001b[0m\n",
      "\u001b[90m2024-11-05 16:09:35.885 \u001b[32m\u001b[49mINFO root \u001b[0m\u001b[30mLoading image set the_office_scaled_(604,453) \u001b[0mstarted \u001b[90m(notebook_cell:13)\u001b[0m\n",
      "\u001b[90m2024-11-05 16:09:35.923 \u001b[32m\u001b[49mINFO root \u001b[0m\u001b[30mLoading 20241105_124827_(604,453).jpg \u001b[0mstarted \u001b[90m(..\\utils\\image_tools.py:69)\u001b[0m\n",
      "\u001b[90m2024-11-05 16:09:35.954 \u001b[32m\u001b[49mINFO root \u001b[0m\u001b[30mLoading 20241105_124827_(604,453).jpg \u001b[0mtook: \u001b[34m43.5807 ms\u001b[0m \u001b[90m(..\\utils\\image_tools.py:69)\u001b[0m\n",
      "\u001b[90m2024-11-05 16:09:35.985 \u001b[32m\u001b[49mINFO root \u001b[0m\u001b[30mLoading 20241105_124828_(604,453).jpg \u001b[0mstarted \u001b[90m(..\\utils\\image_tools.py:69)\u001b[0m\n",
      "\u001b[90m2024-11-05 16:09:36.016 \u001b[32m\u001b[49mINFO root \u001b[0m\u001b[30mLoading 20241105_124828_(604,453).jpg \u001b[0mtook: \u001b[34m34.8628 ms\u001b[0m \u001b[90m(..\\utils\\image_tools.py:69)\u001b[0m\n",
      "\u001b[90m2024-11-05 16:09:36.051 \u001b[32m\u001b[49mINFO root \u001b[0m\u001b[30mLoading 20241105_124831_(604,453).jpg \u001b[0mstarted \u001b[90m(..\\utils\\image_tools.py:69)\u001b[0m\n",
      "\u001b[90m2024-11-05 16:09:36.084 \u001b[32m\u001b[49mINFO root \u001b[0m\u001b[30mLoading 20241105_124831_(604,453).jpg \u001b[0mtook: \u001b[34m36.7886 ms\u001b[0m \u001b[90m(..\\utils\\image_tools.py:69)\u001b[0m\n",
      "\u001b[90m2024-11-05 16:09:36.110 \u001b[32m\u001b[49mINFO root \u001b[0m\u001b[30mLoading 20241105_124833_(604,453).jpg \u001b[0mstarted \u001b[90m(..\\utils\\image_tools.py:69)\u001b[0m\n",
      "\u001b[90m2024-11-05 16:09:36.139 \u001b[32m\u001b[49mINFO root \u001b[0m\u001b[30mLoading 20241105_124833_(604,453).jpg \u001b[0mtook: \u001b[34m29.6205 ms\u001b[0m \u001b[90m(..\\utils\\image_tools.py:69)\u001b[0m\n",
      "\u001b[90m2024-11-05 16:09:36.168 \u001b[32m\u001b[49mINFO root \u001b[0m\u001b[30mLoading 20241105_124835_(604,453).jpg \u001b[0mstarted \u001b[90m(..\\utils\\image_tools.py:69)\u001b[0m\n",
      "\u001b[90m2024-11-05 16:09:36.195 \u001b[32m\u001b[49mINFO root \u001b[0m\u001b[30mLoading 20241105_124835_(604,453).jpg \u001b[0mtook: \u001b[34m32.1440 ms\u001b[0m \u001b[90m(..\\utils\\image_tools.py:69)\u001b[0m\n",
      "\u001b[90m2024-11-05 16:09:36.226 \u001b[32m\u001b[49mINFO root \u001b[0m\u001b[30mLoading image set the_office_scaled_(604,453) \u001b[0mtook: \u001b[34m371.3570 ms\u001b[0m \u001b[90m(notebook_cell:13)\u001b[0m\n",
      "\u001b[90m2024-11-05 16:09:36.256 \u001b[32m\u001b[49mINFO root \u001b[0m\u001b[30mLoading image sets from image_sets_scaled_input \u001b[0mtook: \u001b[34m468.9390 ms\u001b[0m \u001b[90m(notebook_cell:11)\u001b[0m\n",
      "\u001b[90m2024-11-05 16:09:36.275 \u001b[32m\u001b[49mINFO root \u001b[0m\u001b[30mCreating scaled image set for the_office \u001b[0mtook: \u001b[34m821.3755 ms\u001b[0m \u001b[90m(notebook_cell:49)\u001b[0m\n"
     ]
    }
   ],
   "source": [
    "KEY_SCALER_IMAGE_SET_DROPDOWN = \"scaler_image_set_dropdown\"\n",
    "scaler_image_set_dropdown = wid.Dropdown(\n",
    "    options=list(input_image_sets.keys()),\n",
    "    value=memoize.get(\n",
    "        KEY_SCALER_IMAGE_SET_DROPDOWN,\n",
    "        default=next(iter(input_image_sets.keys())),\n",
    "        possible_values=input_image_sets.keys(),\n",
    "    ),\n",
    "    description=\"Image set\",\n",
    "    **widgets_styling,\n",
    ")\n",
    "scaler_largest_resolution_label = wid.Label(\"Largest image: (X,X)\")\n",
    "KEY_SCALER_SCALE_SLIDER = \"scaler_scale_slider\"\n",
    "scaler_scale_slider = wid.FloatSlider(\n",
    "    value=memoize.get(KEY_SCALER_SCALE_SLIDER, default=1.0),\n",
    "    min=0.1,\n",
    "    max=30.0,\n",
    "    step=0.1,\n",
    "    continuous_update=True,\n",
    "    orientation=\"horizontal\",\n",
    "    readout=True,\n",
    "    readout_format=\".1f\",\n",
    "    description=\"Scale\",\n",
    ")\n",
    "scaler_result_resolution_label = wid.Label(\"Resulting largest image: (X,X)\")\n",
    "scaler_create_scaled_image_set_button = wid.Button(\n",
    "    description=\"Create scaled image set\",\n",
    "    **widgets_styling,\n",
    ")\n",
    "\n",
    "\n",
    "def on_update_resolution_labels(change=None):\n",
    "    memoize.set(KEY_SCALER_IMAGE_SET_DROPDOWN, scaler_image_set_dropdown.value)\n",
    "    memoize.set(KEY_SCALER_SCALE_SLIDER, scaler_scale_slider.value)\n",
    "\n",
    "    image_set = input_image_sets[scaler_image_set_dropdown.value]\n",
    "    largest_image = get_largest_image_in_image_set(image_set)\n",
    "    largest_resolution = largest_image.image_color.shape[:2]\n",
    "    scaler_largest_resolution_label.value = f\"Largest image: {largest_resolution}\"\n",
    "    scaler_result_resolution_label.value = f\"Resulting largest image: {tuple(int(x * 1/scaler_scale_slider.value) for x in largest_resolution)}\"\n",
    "\n",
    "\n",
    "scaler_scale_slider.observe(on_update_resolution_labels, names=\"value\")\n",
    "scaler_image_set_dropdown.observe(on_update_resolution_labels, names=\"value\")\n",
    "on_update_resolution_labels()\n",
    "\n",
    "\n",
    "def create_scaled_image_set(change=None):\n",
    "    with LogTimer(f\"Creating scaled image set for {scaler_image_set_dropdown.value}\"):\n",
    "        original_image_set = input_image_sets[scaler_image_set_dropdown.value]\n",
    "\n",
    "        scale = 1 / scaler_scale_slider.value\n",
    "\n",
    "        largest_resolution = get_largest_resolution_in_image_set(original_image_set)\n",
    "        scaled_resolution = tuple(int(x * scale) for x in largest_resolution)\n",
    "        scaled_resolution_fs_string = f\"({scaled_resolution[0]},{scaled_resolution[1]})\"\n",
    "\n",
    "        scaled_image_set_name = (\n",
    "            f\"{scaler_image_set_dropdown.value}_scaled_{scaled_resolution_fs_string}\"\n",
    "        )\n",
    "\n",
    "        scaled_image_set_dir = os.path.join(\n",
    "            input_image_set_scaled_dir, scaled_image_set_name\n",
    "        )\n",
    "\n",
    "        new_image_set = []\n",
    "        for image in original_image_set:\n",
    "            scaled_resolution = tuple(\n",
    "                int(x * scale) for x in image.image_color.shape[:2]\n",
    "            )\n",
    "            scaled_resolution_fs_string = (\n",
    "                f\"({scaled_resolution[0]},{scaled_resolution[1]})\"\n",
    "            )\n",
    "            with LogTimer(\n",
    "                f\"Resizing image {image.filename} from {image.image_color.shape[:2]} to {scaled_resolution}\"\n",
    "            ):\n",
    "                new_image = LoadedImage()\n",
    "                new_image.image_color = cv2.resize(image.image_color, scaled_resolution)\n",
    "                new_image.filename = f\"{Path(image.filename).stem}_{scaled_resolution_fs_string}{Path(image.filename).suffix}\"\n",
    "                new_image_set.append(new_image)\n",
    "\n",
    "        save_image_set(new_image_set, scaled_image_set_dir)\n",
    "        load_image_sets(input_image_set_scaled_dir)\n",
    "\n",
    "\n",
    "scaler_create_scaled_image_set_button.on_click(create_scaled_image_set)\n",
    "\n",
    "display(\n",
    "    wid.VBox(\n",
    "        [\n",
    "            wid.HBox([scaler_image_set_dropdown, scaler_largest_resolution_label]),\n",
    "            wid.HBox([scaler_scale_slider, scaler_result_resolution_label]),\n",
    "            scaler_create_scaled_image_set_button,\n",
    "        ]\n",
    "    )\n",
    ")"
   ]
  },
  {
   "cell_type": "markdown",
   "metadata": {},
   "source": [
    "## Running Points of Interest detection"
   ]
  },
  {
   "cell_type": "code",
   "execution_count": null,
   "metadata": {},
   "outputs": [],
   "source": [
    "fig_width = 16\n",
    "image_size = 512\n"
   ]
  }
 ],
 "metadata": {
  "kernelspec": {
   "display_name": "Python 3",
   "language": "python",
   "name": "python3"
  },
  "language_info": {
   "codemirror_mode": {
    "name": "ipython",
    "version": 3
   },
   "file_extension": ".py",
   "mimetype": "text/x-python",
   "name": "python",
   "nbconvert_exporter": "python",
   "pygments_lexer": "ipython3",
   "version": "3.11.10"
  }
 },
 "nbformat": 4,
 "nbformat_minor": 2
}
