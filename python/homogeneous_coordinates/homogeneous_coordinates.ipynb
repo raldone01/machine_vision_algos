{
 "cells": [
  {
   "cell_type": "markdown",
   "metadata": {},
   "source": [
    "# Homogeneous Coordinates"
   ]
  },
  {
   "cell_type": "markdown",
   "metadata": {},
   "source": [
    "## Imports and Setup"
   ]
  },
  {
   "cell_type": "code",
   "execution_count": 32,
   "metadata": {},
   "outputs": [
    {
     "name": "stdout",
     "output_type": "stream",
     "text": [
      "The autoreload extension is already loaded. To reload it, use:\n",
      "  %reload_ext autoreload\n"
     ]
    }
   ],
   "source": [
    "%load_ext autoreload\n",
    "%autoreload 2\n",
    "\n",
    "import sys\n",
    "import os\n",
    "\n",
    "sys.path.append(\"../\")\n",
    "\n",
    "import logging\n",
    "from pathlib import Path\n",
    "\n",
    "from icecream import ic\n",
    "\n",
    "from IPython.display import display, clear_output\n",
    "import ipywidgets as wid\n",
    "from utils.ipywidgets_extended import (\n",
    "    widgets_styling,\n",
    "    widgets_styling_slider,\n",
    "    MultiSelect,\n",
    "    RadioSelect,\n",
    ")\n",
    "\n",
    "from utils.setup_notebook import init_notebook\n",
    "from utils.setup_logging import setup_logging\n",
    "import utils.memoize as memoize\n",
    "\n",
    "init_notebook()\n",
    "setup_logging(\"INFO\")\n",
    "memoize.set_file_store_path(\"homogeneous_coordinates\")"
   ]
  },
  {
   "cell_type": "code",
   "execution_count": 48,
   "metadata": {},
   "outputs": [],
   "source": [
    "import numpy as np\n",
    "import pandas as pd\n",
    "import scipy as sp\n",
    "import numba as nb\n",
    "from numba import cuda\n",
    "import cv2\n",
    "import matplotlib.pyplot as plt\n",
    "from mpl_toolkits.mplot3d.art3d import Poly3DCollection\n",
    "\n",
    "from utils.benchmarking import LogTimer\n",
    "from utils.plotting_tools import (\n",
    "    SmartFigure,\n",
    "    to_ipy_image,\n",
    "    plot_kernel,\n",
    "    plot_matrix,\n",
    ")\n",
    "from utils.image_tools import load_image, LoadedImage\n",
    "import utils.dyn_module as dyn\n",
    "from utils.cv2_tools import draw_keypoints, draw_matches\n",
    "from utils.distinct_colors import rgbs\n",
    "\n",
    "logging.getLogger(\"numba.cuda.cudadrv.driver\").setLevel(logging.WARNING)"
   ]
  },
  {
   "cell_type": "code",
   "execution_count": 34,
   "metadata": {},
   "outputs": [
    {
     "data": {
      "application/vnd.jupyter.widget-view+json": {
       "model_id": "0d4b4d99f35f4fa68009ec0ca33e200d",
       "version_major": 2,
       "version_minor": 0
      },
      "text/plain": [
       "Button(description='Reset memoize store', style=ButtonStyle())"
      ]
     },
     "metadata": {},
     "output_type": "display_data"
    }
   ],
   "source": [
    "reset_memoize_store_button = wid.Button(description=\"Reset memoize store\")\n",
    "reset_memoize_store_button.on_click(lambda x: memoize.reset_store())\n",
    "display(reset_memoize_store_button)"
   ]
  },
  {
   "cell_type": "markdown",
   "metadata": {},
   "source": [
    "## Projection Matrix"
   ]
  },
  {
   "cell_type": "code",
   "execution_count": null,
   "metadata": {},
   "outputs": [
    {
     "data": {
      "application/vnd.jupyter.widget-view+json": {
       "model_id": "6b2cb18833c0408b96ab4ec56986c8dd",
       "version_major": 2,
       "version_minor": 0
      },
      "text/plain": [
       "VBox(children=(FloatSlider(value=0.09999999999999964, continuous_update=False, description='Projective Divide …"
      ]
     },
     "metadata": {},
     "output_type": "display_data"
    },
    {
     "ename": "AttributeError",
     "evalue": "'NoneType' object has no attribute 'canvas'",
     "output_type": "error",
     "traceback": [
      "\u001b[1;31m---------------------------------------------------------------------------\u001b[0m",
      "\u001b[1;31mAttributeError\u001b[0m                            Traceback (most recent call last)",
      "File \u001b[1;32mc:\\Users\\_\\Desktop\\projects\\machine_vision_algos\\.conda\\Lib\\site-packages\\ipympl\\backend_nbagg.py:279\u001b[0m, in \u001b[0;36mCanvas._handle_message\u001b[1;34m(self, object, content, buffers)\u001b[0m\n\u001b[0;32m    276\u001b[0m     \u001b[38;5;28mself\u001b[39m\u001b[38;5;241m.\u001b[39mmanager\u001b[38;5;241m.\u001b[39mhandle_json(content)\n\u001b[0;32m    278\u001b[0m \u001b[38;5;28;01melse\u001b[39;00m:\n\u001b[1;32m--> 279\u001b[0m     \u001b[38;5;28;43mself\u001b[39;49m\u001b[38;5;241;43m.\u001b[39;49m\u001b[43mmanager\u001b[49m\u001b[38;5;241;43m.\u001b[39;49m\u001b[43mhandle_json\u001b[49m\u001b[43m(\u001b[49m\u001b[43mcontent\u001b[49m\u001b[43m)\u001b[49m\n",
      "File \u001b[1;32mc:\\Users\\_\\Desktop\\projects\\machine_vision_algos\\.conda\\Lib\\site-packages\\matplotlib\\backends\\backend_webagg_core.py:464\u001b[0m, in \u001b[0;36mFigureManagerWebAgg.handle_json\u001b[1;34m(self, content)\u001b[0m\n\u001b[0;32m    463\u001b[0m \u001b[38;5;28;01mdef\u001b[39;00m \u001b[38;5;21mhandle_json\u001b[39m(\u001b[38;5;28mself\u001b[39m, content):\n\u001b[1;32m--> 464\u001b[0m     \u001b[38;5;28;43mself\u001b[39;49m\u001b[38;5;241;43m.\u001b[39;49m\u001b[43mcanvas\u001b[49m\u001b[38;5;241;43m.\u001b[39;49m\u001b[43mhandle_event\u001b[49m\u001b[43m(\u001b[49m\u001b[43mcontent\u001b[49m\u001b[43m)\u001b[49m\n",
      "File \u001b[1;32mc:\\Users\\_\\Desktop\\projects\\machine_vision_algos\\.conda\\Lib\\site-packages\\matplotlib\\backends\\backend_webagg_core.py:264\u001b[0m, in \u001b[0;36mFigureCanvasWebAggCore.handle_event\u001b[1;34m(self, event)\u001b[0m\n\u001b[0;32m    261\u001b[0m e_type \u001b[38;5;241m=\u001b[39m event[\u001b[38;5;124m'\u001b[39m\u001b[38;5;124mtype\u001b[39m\u001b[38;5;124m'\u001b[39m]\n\u001b[0;32m    262\u001b[0m handler \u001b[38;5;241m=\u001b[39m \u001b[38;5;28mgetattr\u001b[39m(\u001b[38;5;28mself\u001b[39m, \u001b[38;5;124mf\u001b[39m\u001b[38;5;124m'\u001b[39m\u001b[38;5;124mhandle_\u001b[39m\u001b[38;5;132;01m{\u001b[39;00me_type\u001b[38;5;132;01m}\u001b[39;00m\u001b[38;5;124m'\u001b[39m,\n\u001b[0;32m    263\u001b[0m                   \u001b[38;5;28mself\u001b[39m\u001b[38;5;241m.\u001b[39mhandle_unknown_event)\n\u001b[1;32m--> 264\u001b[0m \u001b[38;5;28;01mreturn\u001b[39;00m \u001b[43mhandler\u001b[49m\u001b[43m(\u001b[49m\u001b[43mevent\u001b[49m\u001b[43m)\u001b[49m\n",
      "File \u001b[1;32mc:\\Users\\_\\Desktop\\projects\\machine_vision_algos\\.conda\\Lib\\site-packages\\matplotlib\\backends\\backend_webagg_core.py:294\u001b[0m, in \u001b[0;36mFigureCanvasWebAggCore._handle_mouse\u001b[1;34m(self, event)\u001b[0m\n\u001b[0;32m    291\u001b[0m guiEvent \u001b[38;5;241m=\u001b[39m event\u001b[38;5;241m.\u001b[39mget(\u001b[38;5;124m'\u001b[39m\u001b[38;5;124mguiEvent\u001b[39m\u001b[38;5;124m'\u001b[39m)\n\u001b[0;32m    292\u001b[0m \u001b[38;5;28;01mif\u001b[39;00m e_type \u001b[38;5;129;01min\u001b[39;00m [\u001b[38;5;124m'\u001b[39m\u001b[38;5;124mbutton_press\u001b[39m\u001b[38;5;124m'\u001b[39m, \u001b[38;5;124m'\u001b[39m\u001b[38;5;124mbutton_release\u001b[39m\u001b[38;5;124m'\u001b[39m]:\n\u001b[0;32m    293\u001b[0m     \u001b[43mMouseEvent\u001b[49m\u001b[43m(\u001b[49m\u001b[43me_type\u001b[49m\u001b[43m \u001b[49m\u001b[38;5;241;43m+\u001b[39;49m\u001b[43m \u001b[49m\u001b[38;5;124;43m'\u001b[39;49m\u001b[38;5;124;43m_event\u001b[39;49m\u001b[38;5;124;43m'\u001b[39;49m\u001b[43m,\u001b[49m\u001b[43m \u001b[49m\u001b[38;5;28;43mself\u001b[39;49m\u001b[43m,\u001b[49m\u001b[43m \u001b[49m\u001b[43mx\u001b[49m\u001b[43m,\u001b[49m\u001b[43m \u001b[49m\u001b[43my\u001b[49m\u001b[43m,\u001b[49m\u001b[43m \u001b[49m\u001b[43mbutton\u001b[49m\u001b[43m,\u001b[49m\n\u001b[1;32m--> 294\u001b[0m \u001b[43m               \u001b[49m\u001b[43mmodifiers\u001b[49m\u001b[38;5;241;43m=\u001b[39;49m\u001b[43mmodifiers\u001b[49m\u001b[43m,\u001b[49m\u001b[43m \u001b[49m\u001b[43mguiEvent\u001b[49m\u001b[38;5;241;43m=\u001b[39;49m\u001b[43mguiEvent\u001b[49m\u001b[43m)\u001b[49m\u001b[38;5;241;43m.\u001b[39;49m\u001b[43m_process\u001b[49m\u001b[43m(\u001b[49m\u001b[43m)\u001b[49m\n\u001b[0;32m    295\u001b[0m \u001b[38;5;28;01melif\u001b[39;00m e_type \u001b[38;5;241m==\u001b[39m \u001b[38;5;124m'\u001b[39m\u001b[38;5;124mdblclick\u001b[39m\u001b[38;5;124m'\u001b[39m:\n\u001b[0;32m    296\u001b[0m     MouseEvent(\u001b[38;5;124m'\u001b[39m\u001b[38;5;124mbutton_press_event\u001b[39m\u001b[38;5;124m'\u001b[39m, \u001b[38;5;28mself\u001b[39m, x, y, button, dblclick\u001b[38;5;241m=\u001b[39m\u001b[38;5;28;01mTrue\u001b[39;00m,\n\u001b[0;32m    297\u001b[0m                modifiers\u001b[38;5;241m=\u001b[39mmodifiers, guiEvent\u001b[38;5;241m=\u001b[39mguiEvent)\u001b[38;5;241m.\u001b[39m_process()\n",
      "File \u001b[1;32mc:\\Users\\_\\Desktop\\projects\\machine_vision_algos\\.conda\\Lib\\site-packages\\matplotlib\\backend_bases.py:1217\u001b[0m, in \u001b[0;36mEvent._process\u001b[1;34m(self)\u001b[0m\n\u001b[0;32m   1215\u001b[0m \u001b[38;5;28;01mdef\u001b[39;00m \u001b[38;5;21m_process\u001b[39m(\u001b[38;5;28mself\u001b[39m):\n\u001b[0;32m   1216\u001b[0m \u001b[38;5;250m    \u001b[39m\u001b[38;5;124;03m\"\"\"Process this event on ``self.canvas``, then unset ``guiEvent``.\"\"\"\u001b[39;00m\n\u001b[1;32m-> 1217\u001b[0m     \u001b[38;5;28;43mself\u001b[39;49m\u001b[38;5;241;43m.\u001b[39;49m\u001b[43mcanvas\u001b[49m\u001b[38;5;241;43m.\u001b[39;49m\u001b[43mcallbacks\u001b[49m\u001b[38;5;241;43m.\u001b[39;49m\u001b[43mprocess\u001b[49m\u001b[43m(\u001b[49m\u001b[38;5;28;43mself\u001b[39;49m\u001b[38;5;241;43m.\u001b[39;49m\u001b[43mname\u001b[49m\u001b[43m,\u001b[49m\u001b[43m \u001b[49m\u001b[38;5;28;43mself\u001b[39;49m\u001b[43m)\u001b[49m\n\u001b[0;32m   1218\u001b[0m     \u001b[38;5;28mself\u001b[39m\u001b[38;5;241m.\u001b[39m_guiEvent_deleted \u001b[38;5;241m=\u001b[39m \u001b[38;5;28;01mTrue\u001b[39;00m\n",
      "File \u001b[1;32mc:\\Users\\_\\Desktop\\projects\\machine_vision_algos\\.conda\\Lib\\site-packages\\matplotlib\\cbook.py:303\u001b[0m, in \u001b[0;36mCallbackRegistry.process\u001b[1;34m(self, s, *args, **kwargs)\u001b[0m\n\u001b[0;32m    301\u001b[0m \u001b[38;5;28;01mexcept\u001b[39;00m \u001b[38;5;167;01mException\u001b[39;00m \u001b[38;5;28;01mas\u001b[39;00m exc:\n\u001b[0;32m    302\u001b[0m     \u001b[38;5;28;01mif\u001b[39;00m \u001b[38;5;28mself\u001b[39m\u001b[38;5;241m.\u001b[39mexception_handler \u001b[38;5;129;01mis\u001b[39;00m \u001b[38;5;129;01mnot\u001b[39;00m \u001b[38;5;28;01mNone\u001b[39;00m:\n\u001b[1;32m--> 303\u001b[0m         \u001b[38;5;28;43mself\u001b[39;49m\u001b[38;5;241;43m.\u001b[39;49m\u001b[43mexception_handler\u001b[49m\u001b[43m(\u001b[49m\u001b[43mexc\u001b[49m\u001b[43m)\u001b[49m\n\u001b[0;32m    304\u001b[0m     \u001b[38;5;28;01melse\u001b[39;00m:\n\u001b[0;32m    305\u001b[0m         \u001b[38;5;28;01mraise\u001b[39;00m\n",
      "File \u001b[1;32mc:\\Users\\_\\Desktop\\projects\\machine_vision_algos\\.conda\\Lib\\site-packages\\matplotlib\\cbook.py:87\u001b[0m, in \u001b[0;36m_exception_printer\u001b[1;34m(exc)\u001b[0m\n\u001b[0;32m     85\u001b[0m \u001b[38;5;28;01mdef\u001b[39;00m \u001b[38;5;21m_exception_printer\u001b[39m(exc):\n\u001b[0;32m     86\u001b[0m     \u001b[38;5;28;01mif\u001b[39;00m _get_running_interactive_framework() \u001b[38;5;129;01min\u001b[39;00m [\u001b[38;5;124m\"\u001b[39m\u001b[38;5;124mheadless\u001b[39m\u001b[38;5;124m\"\u001b[39m, \u001b[38;5;28;01mNone\u001b[39;00m]:\n\u001b[1;32m---> 87\u001b[0m         \u001b[38;5;28;01mraise\u001b[39;00m exc\n\u001b[0;32m     88\u001b[0m     \u001b[38;5;28;01melse\u001b[39;00m:\n\u001b[0;32m     89\u001b[0m         traceback\u001b[38;5;241m.\u001b[39mprint_exc()\n",
      "File \u001b[1;32mc:\\Users\\_\\Desktop\\projects\\machine_vision_algos\\.conda\\Lib\\site-packages\\matplotlib\\cbook.py:298\u001b[0m, in \u001b[0;36mCallbackRegistry.process\u001b[1;34m(self, s, *args, **kwargs)\u001b[0m\n\u001b[0;32m    296\u001b[0m \u001b[38;5;28;01mif\u001b[39;00m func \u001b[38;5;129;01mis\u001b[39;00m \u001b[38;5;129;01mnot\u001b[39;00m \u001b[38;5;28;01mNone\u001b[39;00m:\n\u001b[0;32m    297\u001b[0m     \u001b[38;5;28;01mtry\u001b[39;00m:\n\u001b[1;32m--> 298\u001b[0m         \u001b[43mfunc\u001b[49m\u001b[43m(\u001b[49m\u001b[38;5;241;43m*\u001b[39;49m\u001b[43margs\u001b[49m\u001b[43m,\u001b[49m\u001b[43m \u001b[49m\u001b[38;5;241;43m*\u001b[39;49m\u001b[38;5;241;43m*\u001b[39;49m\u001b[43mkwargs\u001b[49m\u001b[43m)\u001b[49m\n\u001b[0;32m    299\u001b[0m     \u001b[38;5;66;03m# this does not capture KeyboardInterrupt, SystemExit,\u001b[39;00m\n\u001b[0;32m    300\u001b[0m     \u001b[38;5;66;03m# and GeneratorExit\u001b[39;00m\n\u001b[0;32m    301\u001b[0m     \u001b[38;5;28;01mexcept\u001b[39;00m \u001b[38;5;167;01mException\u001b[39;00m \u001b[38;5;28;01mas\u001b[39;00m exc:\n",
      "File \u001b[1;32mc:\\Users\\_\\Desktop\\projects\\machine_vision_algos\\.conda\\Lib\\site-packages\\mpl_toolkits\\mplot3d\\axes3d.py:1370\u001b[0m, in \u001b[0;36mAxes3D._button_release\u001b[1;34m(self, event)\u001b[0m\n\u001b[0;32m   1368\u001b[0m \u001b[38;5;28;01mdef\u001b[39;00m \u001b[38;5;21m_button_release\u001b[39m(\u001b[38;5;28mself\u001b[39m, event):\n\u001b[0;32m   1369\u001b[0m     \u001b[38;5;28mself\u001b[39m\u001b[38;5;241m.\u001b[39mbutton_pressed \u001b[38;5;241m=\u001b[39m \u001b[38;5;28;01mNone\u001b[39;00m\n\u001b[1;32m-> 1370\u001b[0m     toolbar \u001b[38;5;241m=\u001b[39m \u001b[38;5;28;43mself\u001b[39;49m\u001b[38;5;241;43m.\u001b[39;49m\u001b[43mfigure\u001b[49m\u001b[38;5;241;43m.\u001b[39;49m\u001b[43mcanvas\u001b[49m\u001b[38;5;241m.\u001b[39mtoolbar\n\u001b[0;32m   1371\u001b[0m     \u001b[38;5;66;03m# backend_bases.release_zoom and backend_bases.release_pan call\u001b[39;00m\n\u001b[0;32m   1372\u001b[0m     \u001b[38;5;66;03m# push_current, so check the navigation mode so we don't call it twice\u001b[39;00m\n\u001b[0;32m   1373\u001b[0m     \u001b[38;5;28;01mif\u001b[39;00m toolbar \u001b[38;5;129;01mand\u001b[39;00m \u001b[38;5;28mself\u001b[39m\u001b[38;5;241m.\u001b[39mget_navigate_mode() \u001b[38;5;129;01mis\u001b[39;00m \u001b[38;5;28;01mNone\u001b[39;00m:\n",
      "\u001b[1;31mAttributeError\u001b[0m: 'NoneType' object has no attribute 'canvas'"
     ]
    },
    {
     "ename": "AttributeError",
     "evalue": "'NoneType' object has no attribute 'canvas'",
     "output_type": "error",
     "traceback": [
      "\u001b[1;31m---------------------------------------------------------------------------\u001b[0m",
      "\u001b[1;31mAttributeError\u001b[0m                            Traceback (most recent call last)",
      "File \u001b[1;32mc:\\Users\\_\\Desktop\\projects\\machine_vision_algos\\.conda\\Lib\\site-packages\\ipympl\\backend_nbagg.py:279\u001b[0m, in \u001b[0;36mCanvas._handle_message\u001b[1;34m(self, object, content, buffers)\u001b[0m\n\u001b[0;32m    276\u001b[0m     \u001b[38;5;28mself\u001b[39m\u001b[38;5;241m.\u001b[39mmanager\u001b[38;5;241m.\u001b[39mhandle_json(content)\n\u001b[0;32m    278\u001b[0m \u001b[38;5;28;01melse\u001b[39;00m:\n\u001b[1;32m--> 279\u001b[0m     \u001b[38;5;28;43mself\u001b[39;49m\u001b[38;5;241;43m.\u001b[39;49m\u001b[43mmanager\u001b[49m\u001b[38;5;241;43m.\u001b[39;49m\u001b[43mhandle_json\u001b[49m\u001b[43m(\u001b[49m\u001b[43mcontent\u001b[49m\u001b[43m)\u001b[49m\n",
      "File \u001b[1;32mc:\\Users\\_\\Desktop\\projects\\machine_vision_algos\\.conda\\Lib\\site-packages\\matplotlib\\backends\\backend_webagg_core.py:464\u001b[0m, in \u001b[0;36mFigureManagerWebAgg.handle_json\u001b[1;34m(self, content)\u001b[0m\n\u001b[0;32m    463\u001b[0m \u001b[38;5;28;01mdef\u001b[39;00m \u001b[38;5;21mhandle_json\u001b[39m(\u001b[38;5;28mself\u001b[39m, content):\n\u001b[1;32m--> 464\u001b[0m     \u001b[38;5;28;43mself\u001b[39;49m\u001b[38;5;241;43m.\u001b[39;49m\u001b[43mcanvas\u001b[49m\u001b[38;5;241;43m.\u001b[39;49m\u001b[43mhandle_event\u001b[49m\u001b[43m(\u001b[49m\u001b[43mcontent\u001b[49m\u001b[43m)\u001b[49m\n",
      "File \u001b[1;32mc:\\Users\\_\\Desktop\\projects\\machine_vision_algos\\.conda\\Lib\\site-packages\\matplotlib\\backends\\backend_webagg_core.py:264\u001b[0m, in \u001b[0;36mFigureCanvasWebAggCore.handle_event\u001b[1;34m(self, event)\u001b[0m\n\u001b[0;32m    261\u001b[0m e_type \u001b[38;5;241m=\u001b[39m event[\u001b[38;5;124m'\u001b[39m\u001b[38;5;124mtype\u001b[39m\u001b[38;5;124m'\u001b[39m]\n\u001b[0;32m    262\u001b[0m handler \u001b[38;5;241m=\u001b[39m \u001b[38;5;28mgetattr\u001b[39m(\u001b[38;5;28mself\u001b[39m, \u001b[38;5;124mf\u001b[39m\u001b[38;5;124m'\u001b[39m\u001b[38;5;124mhandle_\u001b[39m\u001b[38;5;132;01m{\u001b[39;00me_type\u001b[38;5;132;01m}\u001b[39;00m\u001b[38;5;124m'\u001b[39m,\n\u001b[0;32m    263\u001b[0m                   \u001b[38;5;28mself\u001b[39m\u001b[38;5;241m.\u001b[39mhandle_unknown_event)\n\u001b[1;32m--> 264\u001b[0m \u001b[38;5;28;01mreturn\u001b[39;00m \u001b[43mhandler\u001b[49m\u001b[43m(\u001b[49m\u001b[43mevent\u001b[49m\u001b[43m)\u001b[49m\n",
      "File \u001b[1;32mc:\\Users\\_\\Desktop\\projects\\machine_vision_algos\\.conda\\Lib\\site-packages\\matplotlib\\backends\\backend_webagg_core.py:294\u001b[0m, in \u001b[0;36mFigureCanvasWebAggCore._handle_mouse\u001b[1;34m(self, event)\u001b[0m\n\u001b[0;32m    291\u001b[0m guiEvent \u001b[38;5;241m=\u001b[39m event\u001b[38;5;241m.\u001b[39mget(\u001b[38;5;124m'\u001b[39m\u001b[38;5;124mguiEvent\u001b[39m\u001b[38;5;124m'\u001b[39m)\n\u001b[0;32m    292\u001b[0m \u001b[38;5;28;01mif\u001b[39;00m e_type \u001b[38;5;129;01min\u001b[39;00m [\u001b[38;5;124m'\u001b[39m\u001b[38;5;124mbutton_press\u001b[39m\u001b[38;5;124m'\u001b[39m, \u001b[38;5;124m'\u001b[39m\u001b[38;5;124mbutton_release\u001b[39m\u001b[38;5;124m'\u001b[39m]:\n\u001b[0;32m    293\u001b[0m     \u001b[43mMouseEvent\u001b[49m\u001b[43m(\u001b[49m\u001b[43me_type\u001b[49m\u001b[43m \u001b[49m\u001b[38;5;241;43m+\u001b[39;49m\u001b[43m \u001b[49m\u001b[38;5;124;43m'\u001b[39;49m\u001b[38;5;124;43m_event\u001b[39;49m\u001b[38;5;124;43m'\u001b[39;49m\u001b[43m,\u001b[49m\u001b[43m \u001b[49m\u001b[38;5;28;43mself\u001b[39;49m\u001b[43m,\u001b[49m\u001b[43m \u001b[49m\u001b[43mx\u001b[49m\u001b[43m,\u001b[49m\u001b[43m \u001b[49m\u001b[43my\u001b[49m\u001b[43m,\u001b[49m\u001b[43m \u001b[49m\u001b[43mbutton\u001b[49m\u001b[43m,\u001b[49m\n\u001b[1;32m--> 294\u001b[0m \u001b[43m               \u001b[49m\u001b[43mmodifiers\u001b[49m\u001b[38;5;241;43m=\u001b[39;49m\u001b[43mmodifiers\u001b[49m\u001b[43m,\u001b[49m\u001b[43m \u001b[49m\u001b[43mguiEvent\u001b[49m\u001b[38;5;241;43m=\u001b[39;49m\u001b[43mguiEvent\u001b[49m\u001b[43m)\u001b[49m\u001b[38;5;241;43m.\u001b[39;49m\u001b[43m_process\u001b[49m\u001b[43m(\u001b[49m\u001b[43m)\u001b[49m\n\u001b[0;32m    295\u001b[0m \u001b[38;5;28;01melif\u001b[39;00m e_type \u001b[38;5;241m==\u001b[39m \u001b[38;5;124m'\u001b[39m\u001b[38;5;124mdblclick\u001b[39m\u001b[38;5;124m'\u001b[39m:\n\u001b[0;32m    296\u001b[0m     MouseEvent(\u001b[38;5;124m'\u001b[39m\u001b[38;5;124mbutton_press_event\u001b[39m\u001b[38;5;124m'\u001b[39m, \u001b[38;5;28mself\u001b[39m, x, y, button, dblclick\u001b[38;5;241m=\u001b[39m\u001b[38;5;28;01mTrue\u001b[39;00m,\n\u001b[0;32m    297\u001b[0m                modifiers\u001b[38;5;241m=\u001b[39mmodifiers, guiEvent\u001b[38;5;241m=\u001b[39mguiEvent)\u001b[38;5;241m.\u001b[39m_process()\n",
      "File \u001b[1;32mc:\\Users\\_\\Desktop\\projects\\machine_vision_algos\\.conda\\Lib\\site-packages\\matplotlib\\backend_bases.py:1217\u001b[0m, in \u001b[0;36mEvent._process\u001b[1;34m(self)\u001b[0m\n\u001b[0;32m   1215\u001b[0m \u001b[38;5;28;01mdef\u001b[39;00m \u001b[38;5;21m_process\u001b[39m(\u001b[38;5;28mself\u001b[39m):\n\u001b[0;32m   1216\u001b[0m \u001b[38;5;250m    \u001b[39m\u001b[38;5;124;03m\"\"\"Process this event on ``self.canvas``, then unset ``guiEvent``.\"\"\"\u001b[39;00m\n\u001b[1;32m-> 1217\u001b[0m     \u001b[38;5;28;43mself\u001b[39;49m\u001b[38;5;241;43m.\u001b[39;49m\u001b[43mcanvas\u001b[49m\u001b[38;5;241;43m.\u001b[39;49m\u001b[43mcallbacks\u001b[49m\u001b[38;5;241;43m.\u001b[39;49m\u001b[43mprocess\u001b[49m\u001b[43m(\u001b[49m\u001b[38;5;28;43mself\u001b[39;49m\u001b[38;5;241;43m.\u001b[39;49m\u001b[43mname\u001b[49m\u001b[43m,\u001b[49m\u001b[43m \u001b[49m\u001b[38;5;28;43mself\u001b[39;49m\u001b[43m)\u001b[49m\n\u001b[0;32m   1218\u001b[0m     \u001b[38;5;28mself\u001b[39m\u001b[38;5;241m.\u001b[39m_guiEvent_deleted \u001b[38;5;241m=\u001b[39m \u001b[38;5;28;01mTrue\u001b[39;00m\n",
      "File \u001b[1;32mc:\\Users\\_\\Desktop\\projects\\machine_vision_algos\\.conda\\Lib\\site-packages\\matplotlib\\cbook.py:303\u001b[0m, in \u001b[0;36mCallbackRegistry.process\u001b[1;34m(self, s, *args, **kwargs)\u001b[0m\n\u001b[0;32m    301\u001b[0m \u001b[38;5;28;01mexcept\u001b[39;00m \u001b[38;5;167;01mException\u001b[39;00m \u001b[38;5;28;01mas\u001b[39;00m exc:\n\u001b[0;32m    302\u001b[0m     \u001b[38;5;28;01mif\u001b[39;00m \u001b[38;5;28mself\u001b[39m\u001b[38;5;241m.\u001b[39mexception_handler \u001b[38;5;129;01mis\u001b[39;00m \u001b[38;5;129;01mnot\u001b[39;00m \u001b[38;5;28;01mNone\u001b[39;00m:\n\u001b[1;32m--> 303\u001b[0m         \u001b[38;5;28;43mself\u001b[39;49m\u001b[38;5;241;43m.\u001b[39;49m\u001b[43mexception_handler\u001b[49m\u001b[43m(\u001b[49m\u001b[43mexc\u001b[49m\u001b[43m)\u001b[49m\n\u001b[0;32m    304\u001b[0m     \u001b[38;5;28;01melse\u001b[39;00m:\n\u001b[0;32m    305\u001b[0m         \u001b[38;5;28;01mraise\u001b[39;00m\n",
      "File \u001b[1;32mc:\\Users\\_\\Desktop\\projects\\machine_vision_algos\\.conda\\Lib\\site-packages\\matplotlib\\cbook.py:87\u001b[0m, in \u001b[0;36m_exception_printer\u001b[1;34m(exc)\u001b[0m\n\u001b[0;32m     85\u001b[0m \u001b[38;5;28;01mdef\u001b[39;00m \u001b[38;5;21m_exception_printer\u001b[39m(exc):\n\u001b[0;32m     86\u001b[0m     \u001b[38;5;28;01mif\u001b[39;00m _get_running_interactive_framework() \u001b[38;5;129;01min\u001b[39;00m [\u001b[38;5;124m\"\u001b[39m\u001b[38;5;124mheadless\u001b[39m\u001b[38;5;124m\"\u001b[39m, \u001b[38;5;28;01mNone\u001b[39;00m]:\n\u001b[1;32m---> 87\u001b[0m         \u001b[38;5;28;01mraise\u001b[39;00m exc\n\u001b[0;32m     88\u001b[0m     \u001b[38;5;28;01melse\u001b[39;00m:\n\u001b[0;32m     89\u001b[0m         traceback\u001b[38;5;241m.\u001b[39mprint_exc()\n",
      "File \u001b[1;32mc:\\Users\\_\\Desktop\\projects\\machine_vision_algos\\.conda\\Lib\\site-packages\\matplotlib\\cbook.py:298\u001b[0m, in \u001b[0;36mCallbackRegistry.process\u001b[1;34m(self, s, *args, **kwargs)\u001b[0m\n\u001b[0;32m    296\u001b[0m \u001b[38;5;28;01mif\u001b[39;00m func \u001b[38;5;129;01mis\u001b[39;00m \u001b[38;5;129;01mnot\u001b[39;00m \u001b[38;5;28;01mNone\u001b[39;00m:\n\u001b[0;32m    297\u001b[0m     \u001b[38;5;28;01mtry\u001b[39;00m:\n\u001b[1;32m--> 298\u001b[0m         \u001b[43mfunc\u001b[49m\u001b[43m(\u001b[49m\u001b[38;5;241;43m*\u001b[39;49m\u001b[43margs\u001b[49m\u001b[43m,\u001b[49m\u001b[43m \u001b[49m\u001b[38;5;241;43m*\u001b[39;49m\u001b[38;5;241;43m*\u001b[39;49m\u001b[43mkwargs\u001b[49m\u001b[43m)\u001b[49m\n\u001b[0;32m    299\u001b[0m     \u001b[38;5;66;03m# this does not capture KeyboardInterrupt, SystemExit,\u001b[39;00m\n\u001b[0;32m    300\u001b[0m     \u001b[38;5;66;03m# and GeneratorExit\u001b[39;00m\n\u001b[0;32m    301\u001b[0m     \u001b[38;5;28;01mexcept\u001b[39;00m \u001b[38;5;167;01mException\u001b[39;00m \u001b[38;5;28;01mas\u001b[39;00m exc:\n",
      "File \u001b[1;32mc:\\Users\\_\\Desktop\\projects\\machine_vision_algos\\.conda\\Lib\\site-packages\\mpl_toolkits\\mplot3d\\axes3d.py:1370\u001b[0m, in \u001b[0;36mAxes3D._button_release\u001b[1;34m(self, event)\u001b[0m\n\u001b[0;32m   1368\u001b[0m \u001b[38;5;28;01mdef\u001b[39;00m \u001b[38;5;21m_button_release\u001b[39m(\u001b[38;5;28mself\u001b[39m, event):\n\u001b[0;32m   1369\u001b[0m     \u001b[38;5;28mself\u001b[39m\u001b[38;5;241m.\u001b[39mbutton_pressed \u001b[38;5;241m=\u001b[39m \u001b[38;5;28;01mNone\u001b[39;00m\n\u001b[1;32m-> 1370\u001b[0m     toolbar \u001b[38;5;241m=\u001b[39m \u001b[38;5;28;43mself\u001b[39;49m\u001b[38;5;241;43m.\u001b[39;49m\u001b[43mfigure\u001b[49m\u001b[38;5;241;43m.\u001b[39;49m\u001b[43mcanvas\u001b[49m\u001b[38;5;241m.\u001b[39mtoolbar\n\u001b[0;32m   1371\u001b[0m     \u001b[38;5;66;03m# backend_bases.release_zoom and backend_bases.release_pan call\u001b[39;00m\n\u001b[0;32m   1372\u001b[0m     \u001b[38;5;66;03m# push_current, so check the navigation mode so we don't call it twice\u001b[39;00m\n\u001b[0;32m   1373\u001b[0m     \u001b[38;5;28;01mif\u001b[39;00m toolbar \u001b[38;5;129;01mand\u001b[39;00m \u001b[38;5;28mself\u001b[39m\u001b[38;5;241m.\u001b[39mget_navigate_mode() \u001b[38;5;129;01mis\u001b[39;00m \u001b[38;5;28;01mNone\u001b[39;00m:\n",
      "\u001b[1;31mAttributeError\u001b[0m: 'NoneType' object has no attribute 'canvas'"
     ]
    },
    {
     "name": "stderr",
     "output_type": "stream",
     "text": [
      "C:\\Users\\_\\AppData\\Local\\Temp\\ipykernel_4232\\3259808144.py:64: RuntimeWarning: divide by zero encountered in divide\n",
      "  transformed_vertex = transformed_vertex[:3] / transformed_vertex[3]\n",
      "C:\\Users\\_\\AppData\\Local\\Temp\\ipykernel_4232\\3259808144.py:64: RuntimeWarning: invalid value encountered in divide\n",
      "  transformed_vertex = transformed_vertex[:3] / transformed_vertex[3]\n",
      "C:\\Users\\_\\AppData\\Local\\Temp\\ipykernel_4232\\3259808144.py:64: RuntimeWarning: divide by zero encountered in divide\n",
      "  transformed_vertex = transformed_vertex[:3] / transformed_vertex[3]\n",
      "C:\\Users\\_\\AppData\\Local\\Temp\\ipykernel_4232\\3259808144.py:64: RuntimeWarning: invalid value encountered in divide\n",
      "  transformed_vertex = transformed_vertex[:3] / transformed_vertex[3]\n"
     ]
    }
   ],
   "source": [
    "projection_smart_figure = SmartFigure(figsize=(12, 6))\n",
    "\n",
    "KEY_PROJECTION_PROJECTIVE_DIVIDE_TERM = \"projection_projective_divide_term\"\n",
    "projection_projective_divide_term_slider = wid.FloatSlider(\n",
    "    value=memoize.get(KEY_PROJECTION_PROJECTIVE_DIVIDE_TERM, -1.0),\n",
    "    min=-10.0,\n",
    "    max=10.0,\n",
    "    step=0.5,\n",
    "    continuous_update=False,\n",
    "    description=\"Projective Divide Term\",\n",
    "    **widgets_styling_slider,\n",
    ")\n",
    "\n",
    "margin = 0.5\n",
    "\n",
    "\n",
    "def on_projection_menu_change(change=None):\n",
    "    memoize.set(\n",
    "        KEY_PROJECTION_PROJECTIVE_DIVIDE_TERM,\n",
    "        projection_projective_divide_term_slider.value,\n",
    "    )\n",
    "\n",
    "    global projection_smart_figure\n",
    "    # Remove the existing axes\n",
    "    for ax in projection_smart_figure.fig.get_axes():\n",
    "        ax.remove()\n",
    "\n",
    "    # Define a function to plot a cube\n",
    "    def plot_cube(ax, vertices, color=\"blue\"):\n",
    "        # Draw the cube defined by its 8 vertices\n",
    "        faces = [\n",
    "            [vertices[j] for j in [0, 1, 5, 4]],  # front face\n",
    "            [vertices[j] for j in [7, 6, 2, 3]],  # back face\n",
    "            [vertices[j] for j in [0, 3, 7, 4]],  # left face\n",
    "            [vertices[j] for j in [1, 2, 6, 5]],  # right face\n",
    "            [vertices[j] for j in [0, 1, 2, 3]],  # bottom face\n",
    "            [vertices[j] for j in [4, 5, 6, 7]],\n",
    "        ]  # top face\n",
    "\n",
    "        # create a poly3dcollection from the faces\n",
    "        ax.add_collection3d(\n",
    "            Poly3DCollection(\n",
    "                faces, facecolors=color, linewidths=1, edgecolors=\"r\", alpha=0.25\n",
    "            )\n",
    "        )\n",
    "\n",
    "        # Plot the vertices with a dot\n",
    "        color_iter = rgbs()\n",
    "        for vertex in vertices:\n",
    "            draw_point(ax, vertex, next(color_iter), size=40)\n",
    "\n",
    "    def draw_point(ax, point, color=\"red\", size=10):\n",
    "        ax.scatter(point[0], point[1], point[2], color=color, s=size)\n",
    "\n",
    "    # Function to apply the 4x4 projection matrix\n",
    "    def apply_matrix(vertices, matrix):\n",
    "        transformed_vertices = []\n",
    "        for vertex in vertices:\n",
    "            # Convert to homogeneous coordinates (x, y, z, 1)\n",
    "            homogeneous_vertex = np.append(vertex, 1)\n",
    "            # Apply the matrix transformation\n",
    "            transformed_vertex = matrix @ homogeneous_vertex\n",
    "            # Convert back from homogeneous (x, y, z, w) to (x, y, z)\n",
    "            transformed_vertex = transformed_vertex[:3] / transformed_vertex[3]\n",
    "            transformed_vertices.append(transformed_vertex)\n",
    "        return np.array(transformed_vertices)\n",
    "\n",
    "    # Define the unit cube vertices. A 2x2x2 cube centered at the origin.\n",
    "    unit_cube_vertices = np.array(\n",
    "        [\n",
    "            [1, 1, 1],  # vertex 0 (front-top-right)\n",
    "            [1, -1, 1],  # vertex 1 (front-bottom-right)\n",
    "            [-1, -1, 1],  # vertex 2 (front-bottom-left)\n",
    "            [-1, 1, 1],  # vertex 3 (front-top-left)\n",
    "            [1, 1, -1],  # vertex 4 (back-top-right)\n",
    "            [1, -1, -1],  # vertex 5 (back-bottom-right)\n",
    "            [-1, -1, -1],  # vertex 6 (back-bottom-left)\n",
    "            [-1, 1, -1],\n",
    "        ]\n",
    "    )  # vertex 7 (back-top-left)\n",
    "\n",
    "    translation = np.array([0.0, 1.0, 3.0])\n",
    "    # translate the unit cube by the translation vector using a 4x4 matrix\n",
    "    translation_matrix = np.eye(4)\n",
    "    translation_matrix[:3, 3] = translation\n",
    "    unit_cube_vertices = apply_matrix(unit_cube_vertices, translation_matrix)\n",
    "\n",
    "    # Define a unit 4x4 matrix (set to identity matrix initially, change these to distort)\n",
    "    pdt = projection_projective_divide_term_slider.value\n",
    "    transformation_matrix = np.array(\n",
    "        [\n",
    "            [1.0, 0.0, 0.0, 0.0],\n",
    "            [0.0, 1.0, 0.0, 0.0],\n",
    "            [0.0, 0.0, 1.0, -1],\n",
    "            [\n",
    "                0.0,\n",
    "                0.0,\n",
    "                1.0,\n",
    "                pdt,\n",
    "            ],\n",
    "        ]\n",
    "    )\n",
    "\n",
    "    # Apply matrix to cube vertices\n",
    "    transformed_vertices = apply_matrix(unit_cube_vertices, transformation_matrix)\n",
    "\n",
    "    # Create a 3D plot to display the original and transformed cubes\n",
    "    fig = projection_smart_figure.fig\n",
    "\n",
    "    # Subplot 1: Original cube\n",
    "    ax1 = fig.add_subplot(121, projection=\"3d\")\n",
    "    plot_cube(ax1, unit_cube_vertices, color=\"blue\")\n",
    "    ax1.set_title(\"Original Cube\")\n",
    "    ax1.set_xlabel(\"X\")\n",
    "    ax1.set_ylabel(\"Y\")\n",
    "    ax1.set_zlabel(\"Z\")\n",
    "    ax1.margins(x=margin, y=margin, z=margin)\n",
    "    ax1.set_box_aspect([1, 1, 1])  # Set equal scaling\n",
    "    draw_point(ax1, [0, 0, 0], color=\"black\", size=20)\n",
    "\n",
    "    # Subplot 2: Transformed cube\n",
    "    ax2 = fig.add_subplot(122, projection=\"3d\")\n",
    "    plot_cube(ax2, transformed_vertices, color=\"green\")\n",
    "    ax2.set_title(\"Transformed (Distorted) Cube\")\n",
    "    ax2.set_xlabel(\"X\")\n",
    "    ax2.set_ylabel(\"Y\")\n",
    "    ax2.set_zlabel(\"Z\")\n",
    "    ax2.margins(x=margin, y=margin, z=margin)\n",
    "    ax2.set_box_aspect([1, 1, 1])  # Set equal scaling\n",
    "    draw_point(ax2, [0, 0, 0], color=\"black\", size=20)\n",
    "\n",
    "    fig.tight_layout()\n",
    "    # fig.canvas.layout.min_width = \"400px\"\n",
    "    # fig.canvas.layout.flex = \"1 1 auto\"\n",
    "    # fig.canvas.layout.width = \"auto\"\n",
    "\n",
    "\n",
    "projection_projective_divide_term_slider.observe(\n",
    "    on_projection_menu_change, names=\"value\"\n",
    ")\n",
    "\n",
    "display(\n",
    "    wid.VBox(\n",
    "        [projection_projective_divide_term_slider, projection_smart_figure.fig.canvas]\n",
    "    )\n",
    ")\n",
    "\n",
    "on_projection_menu_change()"
   ]
  }
 ],
 "metadata": {
  "kernelspec": {
   "display_name": "Python 3",
   "language": "python",
   "name": "python3"
  },
  "language_info": {
   "codemirror_mode": {
    "name": "ipython",
    "version": 3
   },
   "file_extension": ".py",
   "mimetype": "text/x-python",
   "name": "python",
   "nbconvert_exporter": "python",
   "pygments_lexer": "ipython3",
   "version": "3.11.10"
  }
 },
 "nbformat": 4,
 "nbformat_minor": 2
}
